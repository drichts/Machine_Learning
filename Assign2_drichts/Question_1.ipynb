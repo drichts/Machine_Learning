{
 "cells": [
  {
   "cell_type": "markdown",
   "id": "3f7c9c87",
   "metadata": {},
   "source": [
    "### Assignment 2, Question 1\n",
    "#### Devon Richtsmeier\n",
    "\n",
    "### 1. Choose a logistic regression for a multiclass classification using MNIST data."
   ]
  },
  {
   "cell_type": "code",
   "execution_count": 25,
   "id": "3825080e",
   "metadata": {},
   "outputs": [
    {
     "name": "stdout",
     "output_type": "stream",
     "text": [
      "Packages loaded.\n"
     ]
    }
   ],
   "source": [
    "# Load the appropriate packages\n",
    "\n",
    "from sklearn.decomposition import PCA\n",
    "from matplotlib import pyplot as plt\n",
    "import numpy as np\n",
    "import seaborn as sns\n",
    "from sklearn.linear_model import LogisticRegression\n",
    "from sklearn import metrics\n",
    "from sklearn.model_selection import train_test_split\n",
    "\n",
    "sns.set_style('whitegrid')\n",
    "\n",
    "print('Packages loaded.')"
   ]
  },
  {
   "cell_type": "markdown",
   "id": "aedf61fe",
   "metadata": {},
   "source": [
    "### a. Do not use PCA. To make images noisy, use different c_noise. Choose a set n_noise = [0, 0.25, 0.5, 1, 1.5, 2, 3, 4.5, 10, 20, 30, 40, 50]. Train the model for each n_noise. Find corresponding accuracy (use, for example, metrics.accuracy_score(pred_va, tar_va)). Plot:  accouracy  vs. n_noise."
   ]
  },
  {
   "cell_type": "markdown",
   "id": "82a5081c",
   "metadata": {},
   "source": [
    "### Load the MNIST data from tensorflow and define the input and target sets for training and validation."
   ]
  },
  {
   "cell_type": "code",
   "execution_count": 26,
   "id": "f7746eec",
   "metadata": {},
   "outputs": [
    {
     "name": "stdout",
     "output_type": "stream",
     "text": [
      "The shape of the input training set is:  (60000, 784)\n",
      "The shape of the input validation set is:  (10000, 784)\n"
     ]
    }
   ],
   "source": [
    "# Get the MNIST data \n",
    "from tensorflow.keras.datasets import mnist\n",
    "\n",
    "# Define the input and target sets for both and normalizing the input\n",
    "(input_tr, target_tr), (input_va, target_va) = mnist.load_data()\n",
    "\n",
    "# Reshape the data from images into vectors\n",
    "input_tr = np.reshape(input_tr, (-1,784)) \n",
    "input_va = np.reshape(input_va, (-1,784))\n",
    "\n",
    "print('The shape of the input training set is: ', np.shape(input_tr))\n",
    "print('The shape of the input validation set is: ', np.shape(input_va))\n",
    "\n",
    "# Combine the target training and validation sets\n",
    "tarT = np.concatenate((target_tr, target_va))"
   ]
  },
  {
   "cell_type": "code",
   "execution_count": null,
   "id": "b4f3ccce",
   "metadata": {},
   "outputs": [
    {
     "name": "stderr",
     "output_type": "stream",
     "text": [
      "[Parallel(n_jobs=1)]: Using backend SequentialBackend with 1 concurrent workers.\n",
      "c:\\users\\drich\\appdata\\local\\programs\\python\\python37\\lib\\site-packages\\sklearn\\linear_model\\_logistic.py:818: ConvergenceWarning: lbfgs failed to converge (status=1):\n",
      "STOP: TOTAL NO. of ITERATIONS REACHED LIMIT.\n",
      "\n",
      "Increase the number of iterations (max_iter) or scale the data as shown in:\n",
      "    https://scikit-learn.org/stable/modules/preprocessing.html\n",
      "Please also refer to the documentation for alternative solver options:\n",
      "    https://scikit-learn.org/stable/modules/linear_model.html#logistic-regression\n",
      "  extra_warning_msg=_LOGISTIC_SOLVER_CONVERGENCE_MSG,\n",
      "[Parallel(n_jobs=1)]: Done   1 out of   1 | elapsed:   12.3s finished\n",
      "[Parallel(n_jobs=1)]: Using backend SequentialBackend with 1 concurrent workers.\n",
      "c:\\users\\drich\\appdata\\local\\programs\\python\\python37\\lib\\site-packages\\sklearn\\linear_model\\_logistic.py:818: ConvergenceWarning: lbfgs failed to converge (status=1):\n",
      "STOP: TOTAL NO. of ITERATIONS REACHED LIMIT.\n",
      "\n",
      "Increase the number of iterations (max_iter) or scale the data as shown in:\n",
      "    https://scikit-learn.org/stable/modules/preprocessing.html\n",
      "Please also refer to the documentation for alternative solver options:\n",
      "    https://scikit-learn.org/stable/modules/linear_model.html#logistic-regression\n",
      "  extra_warning_msg=_LOGISTIC_SOLVER_CONVERGENCE_MSG,\n",
      "[Parallel(n_jobs=1)]: Done   1 out of   1 | elapsed:   12.6s finished\n",
      "[Parallel(n_jobs=1)]: Using backend SequentialBackend with 1 concurrent workers.\n",
      "c:\\users\\drich\\appdata\\local\\programs\\python\\python37\\lib\\site-packages\\sklearn\\linear_model\\_logistic.py:818: ConvergenceWarning: lbfgs failed to converge (status=1):\n",
      "STOP: TOTAL NO. of ITERATIONS REACHED LIMIT.\n",
      "\n",
      "Increase the number of iterations (max_iter) or scale the data as shown in:\n",
      "    https://scikit-learn.org/stable/modules/preprocessing.html\n",
      "Please also refer to the documentation for alternative solver options:\n",
      "    https://scikit-learn.org/stable/modules/linear_model.html#logistic-regression\n",
      "  extra_warning_msg=_LOGISTIC_SOLVER_CONVERGENCE_MSG,\n",
      "[Parallel(n_jobs=1)]: Done   1 out of   1 | elapsed:   12.1s finished\n",
      "[Parallel(n_jobs=1)]: Using backend SequentialBackend with 1 concurrent workers.\n",
      "c:\\users\\drich\\appdata\\local\\programs\\python\\python37\\lib\\site-packages\\sklearn\\linear_model\\_logistic.py:818: ConvergenceWarning: lbfgs failed to converge (status=1):\n",
      "STOP: TOTAL NO. of ITERATIONS REACHED LIMIT.\n",
      "\n",
      "Increase the number of iterations (max_iter) or scale the data as shown in:\n",
      "    https://scikit-learn.org/stable/modules/preprocessing.html\n",
      "Please also refer to the documentation for alternative solver options:\n",
      "    https://scikit-learn.org/stable/modules/linear_model.html#logistic-regression\n",
      "  extra_warning_msg=_LOGISTIC_SOLVER_CONVERGENCE_MSG,\n",
      "[Parallel(n_jobs=1)]: Done   1 out of   1 | elapsed:   11.9s finished\n",
      "[Parallel(n_jobs=1)]: Using backend SequentialBackend with 1 concurrent workers.\n",
      "c:\\users\\drich\\appdata\\local\\programs\\python\\python37\\lib\\site-packages\\sklearn\\linear_model\\_logistic.py:818: ConvergenceWarning: lbfgs failed to converge (status=1):\n",
      "STOP: TOTAL NO. of ITERATIONS REACHED LIMIT.\n",
      "\n",
      "Increase the number of iterations (max_iter) or scale the data as shown in:\n",
      "    https://scikit-learn.org/stable/modules/preprocessing.html\n",
      "Please also refer to the documentation for alternative solver options:\n",
      "    https://scikit-learn.org/stable/modules/linear_model.html#logistic-regression\n",
      "  extra_warning_msg=_LOGISTIC_SOLVER_CONVERGENCE_MSG,\n",
      "[Parallel(n_jobs=1)]: Done   1 out of   1 | elapsed:   12.1s finished\n",
      "[Parallel(n_jobs=1)]: Using backend SequentialBackend with 1 concurrent workers.\n",
      "c:\\users\\drich\\appdata\\local\\programs\\python\\python37\\lib\\site-packages\\sklearn\\linear_model\\_logistic.py:818: ConvergenceWarning: lbfgs failed to converge (status=1):\n",
      "STOP: TOTAL NO. of ITERATIONS REACHED LIMIT.\n",
      "\n",
      "Increase the number of iterations (max_iter) or scale the data as shown in:\n",
      "    https://scikit-learn.org/stable/modules/preprocessing.html\n",
      "Please also refer to the documentation for alternative solver options:\n",
      "    https://scikit-learn.org/stable/modules/linear_model.html#logistic-regression\n",
      "  extra_warning_msg=_LOGISTIC_SOLVER_CONVERGENCE_MSG,\n",
      "[Parallel(n_jobs=1)]: Done   1 out of   1 | elapsed:   12.7s finished\n",
      "[Parallel(n_jobs=1)]: Using backend SequentialBackend with 1 concurrent workers.\n"
     ]
    }
   ],
   "source": [
    "# The various noise levels to add to the MNIST data\n",
    "n_noise = np.array([0, 0.25, 0.5, 1, 1.5, 2, 3, 4.5, 10, 20, 30, 40, 50])\n",
    "\n",
    "# Set the baseline noise arrays (not scaled by the n_noise values)\n",
    "noise_train = np.random.rand(60000, 784)\n",
    "noise_valid = np.random.rand(10000, 784)\n",
    "\n",
    "# Initialize an array to hold the accuracy score for each level of n_noise\n",
    "acc_no_pca = np.zeros(len(n_noise))\n",
    "\n",
    "# For loop to loop through the n_noise values and fit the data with Logistic Regessor\n",
    "for c_idx, c_noise in enumerate(n_noise):\n",
    "    \n",
    "    # Scale the noise by the amount defined by c_noise\n",
    "    noise_tr = noise_train * c_noise\n",
    "    noise_va = noise_valid * c_noise\n",
    "    \n",
    "    # Set temporary variables in the loop to the baseline MNIST training and validation set and scale\n",
    "    inp_tr = input_tr/255\n",
    "    inp_va = input_va/255\n",
    "    \n",
    "    # Add the noise to the MNIST data and normalize\n",
    "    inp_tr = (inp_tr + noise_tr)/(1 + c_noise)\n",
    "    inp_va = (inp_va + noise_va)/(1 + c_noise)\n",
    "    \n",
    "    # Combine the training and test sets\n",
    "    inpT = np.concatenate((inp_tr, inp_va))\n",
    "    \n",
    "    # Split the data into training and test\n",
    "    inp_tr, inp_va, tar_tr, tar_va = train_test_split(inpT, tarT, test_size=0.3, random_state=0)\n",
    "    \n",
    "    # Set up the logistic regressor\n",
    "    log_reg = LogisticRegression(penalty='l2', verbose=1)\n",
    "    \n",
    "    # Fit the data\n",
    "    log_reg.fit(inp_tr, tar_tr)  # fit the model with training set\n",
    "\n",
    "    # Predict the training and validation sets\n",
    "    pred_tr = log_reg.predict(inp_tr)\n",
    "    pred_va = log_reg.predict(inp_va)\n",
    "    \n",
    "    # Find the accuracy score of the metric\n",
    "    acc_no_pca[c_idx] = metrics.accuracy_score(pred_va, tar_va)"
   ]
  },
  {
   "cell_type": "markdown",
   "id": "ef4d4a7a",
   "metadata": {},
   "source": [
    "### Plot the accuracy score vs. level of noise"
   ]
  },
  {
   "cell_type": "code",
   "execution_count": 11,
   "id": "d8a664b6",
   "metadata": {},
   "outputs": [
    {
     "data": {
      "image/png": "[encoded data removed]",
      "text/plain": [
       "<Figure size 504x504 with 1 Axes>"
      ]
     },
     "metadata": {},
     "output_type": "display_data"
    }
   ],
   "source": [
    "# Set up the accuracy vs. n_noise plot for no PCA\n",
    "fig_no_pca = plt.figure(figsize=(7, 7))\n",
    "plt.plot(n_noise, acc_no_pca)\n",
    "plt.title('No PCA: Model accuracy vs. noise level', fontsize=16)\n",
    "plt.xlabel('Noise level', fontsize=15)\n",
    "plt.ylabel('Accuracy score', fontsize=15)\n",
    "plt.tick_params(labelsize=14)\n",
    "plt.show()"
   ]
  },
  {
   "cell_type": "markdown",
   "id": "9346f5ff",
   "metadata": {},
   "source": [
    "### b. Do the same step above; however, use a fixed PCA (n_component=100) this time. Plot accuracy vs. n_noise on the same plot."
   ]
  },
  {
   "cell_type": "code",
   "execution_count": 13,
   "id": "e98bb624",
   "metadata": {},
   "outputs": [
    {
     "name": "stdout",
     "output_type": "stream",
     "text": [
      "Noise level: 0.0\n",
      "Data shape:  (60000, 784) (10000, 784)\n",
      "\n"
     ]
    },
    {
     "name": "stderr",
     "output_type": "stream",
     "text": [
      "[Parallel(n_jobs=1)]: Using backend SequentialBackend with 1 concurrent workers.\n",
      "c:\\users\\drich\\appdata\\local\\programs\\python\\python37\\lib\\site-packages\\sklearn\\linear_model\\_logistic.py:818: ConvergenceWarning: lbfgs failed to converge (status=1):\n",
      "STOP: TOTAL NO. of ITERATIONS REACHED LIMIT.\n",
      "\n",
      "Increase the number of iterations (max_iter) or scale the data as shown in:\n",
      "    https://scikit-learn.org/stable/modules/preprocessing.html\n",
      "Please also refer to the documentation for alternative solver options:\n",
      "    https://scikit-learn.org/stable/modules/linear_model.html#logistic-regression\n",
      "  extra_warning_msg=_LOGISTIC_SOLVER_CONVERGENCE_MSG,\n",
      "[Parallel(n_jobs=1)]: Done   1 out of   1 | elapsed:    4.1s finished\n"
     ]
    },
    {
     "name": "stdout",
     "output_type": "stream",
     "text": [
      "Noise level: 0.25\n",
      "Data shape:  (60000, 784) (10000, 784)\n",
      "\n"
     ]
    },
    {
     "name": "stderr",
     "output_type": "stream",
     "text": [
      "[Parallel(n_jobs=1)]: Using backend SequentialBackend with 1 concurrent workers.\n",
      "c:\\users\\drich\\appdata\\local\\programs\\python\\python37\\lib\\site-packages\\sklearn\\linear_model\\_logistic.py:818: ConvergenceWarning: lbfgs failed to converge (status=1):\n",
      "STOP: TOTAL NO. of ITERATIONS REACHED LIMIT.\n",
      "\n",
      "Increase the number of iterations (max_iter) or scale the data as shown in:\n",
      "    https://scikit-learn.org/stable/modules/preprocessing.html\n",
      "Please also refer to the documentation for alternative solver options:\n",
      "    https://scikit-learn.org/stable/modules/linear_model.html#logistic-regression\n",
      "  extra_warning_msg=_LOGISTIC_SOLVER_CONVERGENCE_MSG,\n",
      "[Parallel(n_jobs=1)]: Done   1 out of   1 | elapsed:    4.2s finished\n"
     ]
    },
    {
     "name": "stdout",
     "output_type": "stream",
     "text": [
      "Noise level: 0.5\n",
      "Data shape:  (60000, 784) (10000, 784)\n",
      "\n"
     ]
    },
    {
     "name": "stderr",
     "output_type": "stream",
     "text": [
      "[Parallel(n_jobs=1)]: Using backend SequentialBackend with 1 concurrent workers.\n",
      "c:\\users\\drich\\appdata\\local\\programs\\python\\python37\\lib\\site-packages\\sklearn\\linear_model\\_logistic.py:818: ConvergenceWarning: lbfgs failed to converge (status=1):\n",
      "STOP: TOTAL NO. of ITERATIONS REACHED LIMIT.\n",
      "\n",
      "Increase the number of iterations (max_iter) or scale the data as shown in:\n",
      "    https://scikit-learn.org/stable/modules/preprocessing.html\n",
      "Please also refer to the documentation for alternative solver options:\n",
      "    https://scikit-learn.org/stable/modules/linear_model.html#logistic-regression\n",
      "  extra_warning_msg=_LOGISTIC_SOLVER_CONVERGENCE_MSG,\n",
      "[Parallel(n_jobs=1)]: Done   1 out of   1 | elapsed:    4.1s finished\n"
     ]
    },
    {
     "name": "stdout",
     "output_type": "stream",
     "text": [
      "Noise level: 1.0\n",
      "Data shape:  (60000, 784) (10000, 784)\n",
      "\n"
     ]
    },
    {
     "name": "stderr",
     "output_type": "stream",
     "text": [
      "[Parallel(n_jobs=1)]: Using backend SequentialBackend with 1 concurrent workers.\n",
      "[Parallel(n_jobs=1)]: Done   1 out of   1 | elapsed:    3.4s finished\n"
     ]
    },
    {
     "name": "stdout",
     "output_type": "stream",
     "text": [
      "Noise level: 1.5\n",
      "Data shape:  (60000, 784) (10000, 784)\n",
      "\n"
     ]
    },
    {
     "name": "stderr",
     "output_type": "stream",
     "text": [
      "[Parallel(n_jobs=1)]: Using backend SequentialBackend with 1 concurrent workers.\n",
      "[Parallel(n_jobs=1)]: Done   1 out of   1 | elapsed:    2.5s finished\n"
     ]
    },
    {
     "name": "stdout",
     "output_type": "stream",
     "text": [
      "Noise level: 2.0\n",
      "Data shape:  (60000, 784) (10000, 784)\n",
      "\n"
     ]
    },
    {
     "name": "stderr",
     "output_type": "stream",
     "text": [
      "[Parallel(n_jobs=1)]: Using backend SequentialBackend with 1 concurrent workers.\n",
      "[Parallel(n_jobs=1)]: Done   1 out of   1 | elapsed:    2.5s finished\n"
     ]
    },
    {
     "name": "stdout",
     "output_type": "stream",
     "text": [
      "Noise level: 3.0\n",
      "Data shape:  (60000, 784) (10000, 784)\n",
      "\n"
     ]
    },
    {
     "name": "stderr",
     "output_type": "stream",
     "text": [
      "[Parallel(n_jobs=1)]: Using backend SequentialBackend with 1 concurrent workers.\n",
      "[Parallel(n_jobs=1)]: Done   1 out of   1 | elapsed:    1.9s finished\n"
     ]
    },
    {
     "name": "stdout",
     "output_type": "stream",
     "text": [
      "Noise level: 4.5\n",
      "Data shape:  (60000, 784) (10000, 784)\n",
      "\n"
     ]
    },
    {
     "name": "stderr",
     "output_type": "stream",
     "text": [
      "[Parallel(n_jobs=1)]: Using backend SequentialBackend with 1 concurrent workers.\n",
      "[Parallel(n_jobs=1)]: Done   1 out of   1 | elapsed:    1.6s finished\n"
     ]
    },
    {
     "name": "stdout",
     "output_type": "stream",
     "text": [
      "Noise level: 10.0\n",
      "Data shape:  (60000, 784) (10000, 784)\n",
      "\n"
     ]
    },
    {
     "name": "stderr",
     "output_type": "stream",
     "text": [
      "[Parallel(n_jobs=1)]: Using backend SequentialBackend with 1 concurrent workers.\n",
      "[Parallel(n_jobs=1)]: Done   1 out of   1 | elapsed:    0.9s finished\n"
     ]
    },
    {
     "name": "stdout",
     "output_type": "stream",
     "text": [
      "Noise level: 20.0\n",
      "Data shape:  (60000, 784) (10000, 784)\n",
      "\n"
     ]
    },
    {
     "name": "stderr",
     "output_type": "stream",
     "text": [
      "[Parallel(n_jobs=1)]: Using backend SequentialBackend with 1 concurrent workers.\n",
      "[Parallel(n_jobs=1)]: Done   1 out of   1 | elapsed:    0.6s finished\n"
     ]
    },
    {
     "name": "stdout",
     "output_type": "stream",
     "text": [
      "Noise level: 30.0\n",
      "Data shape:  (60000, 784) (10000, 784)\n",
      "\n"
     ]
    },
    {
     "name": "stderr",
     "output_type": "stream",
     "text": [
      "[Parallel(n_jobs=1)]: Using backend SequentialBackend with 1 concurrent workers.\n",
      "[Parallel(n_jobs=1)]: Done   1 out of   1 | elapsed:    0.5s finished\n"
     ]
    },
    {
     "name": "stdout",
     "output_type": "stream",
     "text": [
      "Noise level: 40.0\n",
      "Data shape:  (60000, 784) (10000, 784)\n",
      "\n"
     ]
    },
    {
     "name": "stderr",
     "output_type": "stream",
     "text": [
      "[Parallel(n_jobs=1)]: Using backend SequentialBackend with 1 concurrent workers.\n",
      "[Parallel(n_jobs=1)]: Done   1 out of   1 | elapsed:    0.6s finished\n"
     ]
    },
    {
     "name": "stdout",
     "output_type": "stream",
     "text": [
      "Noise level: 50.0\n",
      "Data shape:  (60000, 784) (10000, 784)\n",
      "\n"
     ]
    },
    {
     "name": "stderr",
     "output_type": "stream",
     "text": [
      "[Parallel(n_jobs=1)]: Using backend SequentialBackend with 1 concurrent workers.\n",
      "[Parallel(n_jobs=1)]: Done   1 out of   1 | elapsed:    0.6s finished\n"
     ]
    }
   ],
   "source": [
    "# Initialize an array to hold the accuracy score for each level of n_noise, this time with PCA with 100 components\n",
    "acc_with_pca100 = np.zeros(len(n_noise))\n",
    "\n",
    "# For loop to loop through the n_noise values and fit the data with Logistic Regessor\n",
    "for c_idx, c_noise in enumerate(n_noise):\n",
    "    \n",
    "    # Scale the noise by the amount defined by c_noise\n",
    "    noise_tr = noise_train * c_noise\n",
    "    noise_va = noise_valid * c_noise\n",
    "    \n",
    "    # Set temporary variables in the loop to the baseline MNIST training and validation set and scale\n",
    "    inp_tr = input_tr/255\n",
    "    inp_va = input_va/255\n",
    "    \n",
    "    # Add the noise to the MNIST data and normalize\n",
    "    inp_tr = (inp_tr + noise_tr)/(1 + c_noise)\n",
    "    inp_va = (inp_va + noise_va)/(1 + c_noise)\n",
    "    \n",
    "    # Print the shape of the training and validation sets\n",
    "    print('Noise level:', c_noise)\n",
    "    print('Data shape: ', np.shape(inp_tr), np.shape(inp_va))\n",
    "    print()\n",
    "    \n",
    "    # Initialize the PCA transformer with n_components = 100\n",
    "    pca = PCA(n_components=100)\n",
    "\n",
    "    # Fit the \n",
    "    pca.fit(inp_tr)\n",
    "    inp_tr_pca = pca.transform(inp_tr)\n",
    "    inp_va_pca = pca.transform(inp_va)\n",
    "    \n",
    "    # Set up the logistic regressor\n",
    "    log_reg = LogisticRegression(penalty='l2', verbose=1)\n",
    "    \n",
    "    # Fit the data\n",
    "    log_reg.fit(inp_tr_pca, target_tr)  # fit the model with training set\n",
    "\n",
    "    # Predict the training and validation sets\n",
    "    pred_tr = log_reg.predict(inp_tr_pca)\n",
    "    pred_va = log_reg.predict(inp_va_pca)\n",
    "    \n",
    "    # Find the accuracy score of the metric\n",
    "    acc_with_pca100[c_idx] = metrics.accuracy_score(pred_va, target_va)"
   ]
  },
  {
   "cell_type": "markdown",
   "id": "6d7e76bf",
   "metadata": {},
   "source": [
    "### Plot the accuracy score vs. level of noise"
   ]
  },
  {
   "cell_type": "code",
   "execution_count": 15,
   "id": "20952d65",
   "metadata": {},
   "outputs": [
    {
     "data": {
      "image/png": "[encoded data removed]",
      "text/plain": [
       "<Figure size 504x504 with 1 Axes>"
      ]
     },
     "metadata": {},
     "output_type": "display_data"
    }
   ],
   "source": [
    "# Set up the accuracy vs. n_noise plot for no PCA\n",
    "fig_with_pca100 = plt.figure(figsize=(7, 7))\n",
    "plt.plot(n_noise, acc_with_pca100)\n",
    "plt.title('100 component PCA: Model accuracy vs. noise level', fontsize=16)\n",
    "plt.xlabel('Noise level', fontsize=15)\n",
    "plt.ylabel('Accuracy score', fontsize=15)\n",
    "plt.tick_params(labelsize=14)\n",
    "plt.show()"
   ]
  },
  {
   "cell_type": "markdown",
   "id": "51cdcee4",
   "metadata": {},
   "source": [
    "### c. Do the same above with PCA (n_components=20)."
   ]
  },
  {
   "cell_type": "code",
   "execution_count": 16,
   "id": "75724411",
   "metadata": {},
   "outputs": [
    {
     "name": "stdout",
     "output_type": "stream",
     "text": [
      "Noise level: 0.0\n",
      "Data shape:  (60000, 784) (10000, 784)\n",
      "\n"
     ]
    },
    {
     "name": "stderr",
     "output_type": "stream",
     "text": [
      "[Parallel(n_jobs=1)]: Using backend SequentialBackend with 1 concurrent workers.\n",
      "c:\\users\\drich\\appdata\\local\\programs\\python\\python37\\lib\\site-packages\\sklearn\\linear_model\\_logistic.py:818: ConvergenceWarning: lbfgs failed to converge (status=1):\n",
      "STOP: TOTAL NO. of ITERATIONS REACHED LIMIT.\n",
      "\n",
      "Increase the number of iterations (max_iter) or scale the data as shown in:\n",
      "    https://scikit-learn.org/stable/modules/preprocessing.html\n",
      "Please also refer to the documentation for alternative solver options:\n",
      "    https://scikit-learn.org/stable/modules/linear_model.html#logistic-regression\n",
      "  extra_warning_msg=_LOGISTIC_SOLVER_CONVERGENCE_MSG,\n",
      "[Parallel(n_jobs=1)]: Done   1 out of   1 | elapsed:    2.9s finished\n"
     ]
    },
    {
     "name": "stdout",
     "output_type": "stream",
     "text": [
      "Noise level: 0.25\n",
      "Data shape:  (60000, 784) (10000, 784)\n",
      "\n"
     ]
    },
    {
     "name": "stderr",
     "output_type": "stream",
     "text": [
      "[Parallel(n_jobs=1)]: Using backend SequentialBackend with 1 concurrent workers.\n",
      "[Parallel(n_jobs=1)]: Done   1 out of   1 | elapsed:    2.5s finished\n"
     ]
    },
    {
     "name": "stdout",
     "output_type": "stream",
     "text": [
      "Noise level: 0.5\n",
      "Data shape:  (60000, 784) (10000, 784)\n",
      "\n"
     ]
    },
    {
     "name": "stderr",
     "output_type": "stream",
     "text": [
      "[Parallel(n_jobs=1)]: Using backend SequentialBackend with 1 concurrent workers.\n",
      "[Parallel(n_jobs=1)]: Done   1 out of   1 | elapsed:    2.2s finished\n"
     ]
    },
    {
     "name": "stdout",
     "output_type": "stream",
     "text": [
      "Noise level: 1.0\n",
      "Data shape:  (60000, 784) (10000, 784)\n",
      "\n"
     ]
    },
    {
     "name": "stderr",
     "output_type": "stream",
     "text": [
      "[Parallel(n_jobs=1)]: Using backend SequentialBackend with 1 concurrent workers.\n",
      "[Parallel(n_jobs=1)]: Done   1 out of   1 | elapsed:    1.8s finished\n"
     ]
    },
    {
     "name": "stdout",
     "output_type": "stream",
     "text": [
      "Noise level: 1.5\n",
      "Data shape:  (60000, 784) (10000, 784)\n",
      "\n"
     ]
    },
    {
     "name": "stderr",
     "output_type": "stream",
     "text": [
      "[Parallel(n_jobs=1)]: Using backend SequentialBackend with 1 concurrent workers.\n",
      "[Parallel(n_jobs=1)]: Done   1 out of   1 | elapsed:    1.5s finished\n"
     ]
    },
    {
     "name": "stdout",
     "output_type": "stream",
     "text": [
      "Noise level: 2.0\n",
      "Data shape:  (60000, 784) (10000, 784)\n",
      "\n"
     ]
    },
    {
     "name": "stderr",
     "output_type": "stream",
     "text": [
      "[Parallel(n_jobs=1)]: Using backend SequentialBackend with 1 concurrent workers.\n",
      "[Parallel(n_jobs=1)]: Done   1 out of   1 | elapsed:    1.5s finished\n"
     ]
    },
    {
     "name": "stdout",
     "output_type": "stream",
     "text": [
      "Noise level: 3.0\n",
      "Data shape:  (60000, 784) (10000, 784)\n",
      "\n"
     ]
    },
    {
     "name": "stderr",
     "output_type": "stream",
     "text": [
      "[Parallel(n_jobs=1)]: Using backend SequentialBackend with 1 concurrent workers.\n",
      "[Parallel(n_jobs=1)]: Done   1 out of   1 | elapsed:    1.2s finished\n"
     ]
    },
    {
     "name": "stdout",
     "output_type": "stream",
     "text": [
      "Noise level: 4.5\n",
      "Data shape:  (60000, 784) (10000, 784)\n",
      "\n"
     ]
    },
    {
     "name": "stderr",
     "output_type": "stream",
     "text": [
      "[Parallel(n_jobs=1)]: Using backend SequentialBackend with 1 concurrent workers.\n",
      "[Parallel(n_jobs=1)]: Done   1 out of   1 | elapsed:    0.9s finished\n"
     ]
    },
    {
     "name": "stdout",
     "output_type": "stream",
     "text": [
      "Noise level: 10.0\n",
      "Data shape:  (60000, 784) (10000, 784)\n",
      "\n"
     ]
    },
    {
     "name": "stderr",
     "output_type": "stream",
     "text": [
      "[Parallel(n_jobs=1)]: Using backend SequentialBackend with 1 concurrent workers.\n",
      "[Parallel(n_jobs=1)]: Done   1 out of   1 | elapsed:    0.5s finished\n"
     ]
    },
    {
     "name": "stdout",
     "output_type": "stream",
     "text": [
      "Noise level: 20.0\n",
      "Data shape:  (60000, 784) (10000, 784)\n",
      "\n"
     ]
    },
    {
     "name": "stderr",
     "output_type": "stream",
     "text": [
      "[Parallel(n_jobs=1)]: Using backend SequentialBackend with 1 concurrent workers.\n",
      "[Parallel(n_jobs=1)]: Done   1 out of   1 | elapsed:    0.3s finished\n"
     ]
    },
    {
     "name": "stdout",
     "output_type": "stream",
     "text": [
      "Noise level: 30.0\n",
      "Data shape:  (60000, 784) (10000, 784)\n",
      "\n"
     ]
    },
    {
     "name": "stderr",
     "output_type": "stream",
     "text": [
      "[Parallel(n_jobs=1)]: Using backend SequentialBackend with 1 concurrent workers.\n",
      "[Parallel(n_jobs=1)]: Done   1 out of   1 | elapsed:    0.3s finished\n"
     ]
    },
    {
     "name": "stdout",
     "output_type": "stream",
     "text": [
      "Noise level: 40.0\n",
      "Data shape:  (60000, 784) (10000, 784)\n",
      "\n"
     ]
    },
    {
     "name": "stderr",
     "output_type": "stream",
     "text": [
      "[Parallel(n_jobs=1)]: Using backend SequentialBackend with 1 concurrent workers.\n",
      "[Parallel(n_jobs=1)]: Done   1 out of   1 | elapsed:    0.3s finished\n"
     ]
    },
    {
     "name": "stdout",
     "output_type": "stream",
     "text": [
      "Noise level: 50.0\n",
      "Data shape:  (60000, 784) (10000, 784)\n",
      "\n"
     ]
    },
    {
     "name": "stderr",
     "output_type": "stream",
     "text": [
      "[Parallel(n_jobs=1)]: Using backend SequentialBackend with 1 concurrent workers.\n",
      "[Parallel(n_jobs=1)]: Done   1 out of   1 | elapsed:    0.3s finished\n"
     ]
    }
   ],
   "source": [
    "# Initialize an array to hold the accuracy score for each level of n_noise, this time with PCA with 20 components\n",
    "acc_with_pca20 = np.zeros(len(n_noise))\n",
    "\n",
    "# For loop to loop through the n_noise values and fit the data with Logistic Regessor\n",
    "for c_idx, c_noise in enumerate(n_noise):\n",
    "    \n",
    "    # Scale the noise by the amount defined by c_noise\n",
    "    noise_tr = noise_train * c_noise\n",
    "    noise_va = noise_valid * c_noise\n",
    "    \n",
    "    # Set temporary variables in the loop to the baseline MNIST training and validation set and scale\n",
    "    inp_tr = input_tr/255\n",
    "    inp_va = input_va/255\n",
    "    \n",
    "    # Add the noise to the MNIST data and normalize\n",
    "    inp_tr = (inp_tr + noise_tr)/(1 + c_noise)\n",
    "    inp_va = (inp_va + noise_va)/(1 + c_noise)\n",
    "    \n",
    "    # Print the shape of the training and validation sets\n",
    "    print('Noise level:', c_noise)\n",
    "    print('Data shape: ', np.shape(inp_tr), np.shape(inp_va))\n",
    "    print()\n",
    "    \n",
    "    # Initialize the PCA transformer with n_components = 20\n",
    "    pca = PCA(n_components=20)\n",
    "\n",
    "    # Fit the \n",
    "    pca.fit(inp_tr)\n",
    "    inp_tr_pca = pca.transform(inp_tr)\n",
    "    inp_va_pca = pca.transform(inp_va)\n",
    "    \n",
    "    # Set up the logistic regressor\n",
    "    log_reg = LogisticRegression(penalty='l2', verbose=1)\n",
    "    \n",
    "    # Fit the data\n",
    "    log_reg.fit(inp_tr_pca, target_tr)  # fit the model with training set\n",
    "\n",
    "    # Predict the training and validation sets\n",
    "    pred_tr = log_reg.predict(inp_tr_pca)\n",
    "    pred_va = log_reg.predict(inp_va_pca)\n",
    "    \n",
    "    # Find the accuracy score of the metric\n",
    "    acc_with_pca20[c_idx] = metrics.accuracy_score(pred_va, target_va)"
   ]
  },
  {
   "cell_type": "markdown",
   "id": "a332c244",
   "metadata": {},
   "source": [
    "### Plot the accuracy score vs. level of noise"
   ]
  },
  {
   "cell_type": "code",
   "execution_count": 17,
   "id": "3313a771",
   "metadata": {},
   "outputs": [
    {
     "data": {
      "image/png": "[encoded data removed]",
      "text/plain": [
       "<Figure size 504x504 with 1 Axes>"
      ]
     },
     "metadata": {},
     "output_type": "display_data"
    }
   ],
   "source": [
    "# Set up the accuracy vs. n_noise plot for no PCA\n",
    "fig_with_pca20 = plt.figure(figsize=(7, 7))\n",
    "plt.plot(n_noise, acc_with_pca20)\n",
    "plt.title('20 component PCA: Model accuracy vs. noise level', fontsize=16)\n",
    "plt.xlabel('Noise level', fontsize=15)\n",
    "plt.ylabel('Accuracy score', fontsize=15)\n",
    "plt.tick_params(labelsize=14)\n",
    "plt.show()"
   ]
  },
  {
   "cell_type": "markdown",
   "id": "aaaeacc7",
   "metadata": {},
   "source": [
    "### d. Compare three curves and discuss/explain what you see in the plot. "
   ]
  },
  {
   "cell_type": "code",
   "execution_count": 22,
   "id": "9306ce35",
   "metadata": {},
   "outputs": [
    {
     "data": {
      "image/png": "[encoded data removed]",
      "text/plain": [
       "<Figure size 1008x360 with 3 Axes>"
      ]
     },
     "metadata": {},
     "output_type": "display_data"
    }
   ],
   "source": [
    "# Set up the figure with all 3 plots\n",
    "fig_all, ax = plt.subplots(1, 3, figsize=(14, 5))\n",
    "\n",
    "# No PCA\n",
    "ax[0].plot(n_noise, acc_no_pca)\n",
    "ax[0].set_title('No PCA', fontsize=16)\n",
    "ax[0].set_xlabel('Noise level', fontsize=15)\n",
    "ax[0].set_ylabel('Accuracy score', fontsize=15)\n",
    "ax[0].tick_params(labelsize=14)\n",
    "\n",
    "# Components = 100\n",
    "ax[1].plot(n_noise, acc_with_pca100)\n",
    "ax[1].set_title('100 component PCA', fontsize=16)\n",
    "ax[1].set_xlabel('Noise level', fontsize=15)\n",
    "ax[1].set_ylabel('Accuracy score', fontsize=15)\n",
    "ax[1].tick_params(labelsize=14)\n",
    "\n",
    "# Components = 20\n",
    "ax[2].plot(n_noise, acc_with_pca20)\n",
    "ax[2].set_title('20 component PCA', fontsize=16)\n",
    "ax[2].set_xlabel('Noise level', fontsize=15)\n",
    "ax[2].set_ylabel('Accuracy score', fontsize=15)\n",
    "ax[2].tick_params(labelsize=14)\n",
    "\n",
    "plt.subplots_adjust(wspace=0.3)\n",
    "plt.show()"
   ]
  },
  {
   "cell_type": "code",
   "execution_count": null,
   "id": "eb9b8eb2",
   "metadata": {},
   "outputs": [],
   "source": []
  }
 ],
 "metadata": {
  "kernelspec": {
   "display_name": "Python 3 (ipykernel)",
   "language": "python",
   "name": "python3"
  },
  "language_info": {
   "codemirror_mode": {
    "name": "ipython",
    "version": 3
   },
   "file_extension": ".py",
   "mimetype": "text/x-python",
   "name": "python",
   "nbconvert_exporter": "python",
   "pygments_lexer": "ipython3",
   "version": "3.7.9"
  }
 },
 "nbformat": 4,
 "nbformat_minor": 5
}