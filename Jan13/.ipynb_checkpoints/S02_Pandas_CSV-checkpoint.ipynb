{
 "cells": [
  {
   "cell_type": "markdown",
   "metadata": {
    "id": "0U8si7LTBPIv"
   },
   "source": [
    "# load Pandas (as Excel)\n",
    "# for more detailed information see:\n",
    "https://pandas.pydata.org/pandas-docs/stable/reference/api/pandas.DataFrame.html"
   ]
  },
  {
   "cell_type": "code",
   "execution_count": 43,
   "metadata": {
    "colab": {
     "base_uri": "https://localhost:8080/"
    },
    "id": "AeJfpTbKBPIz",
    "outputId": "117b5c7c-8198-48ef-8cb6-28c2b6abd4a7"
   },
   "outputs": [
    {
     "name": "stdout",
     "output_type": "stream",
     "text": [
      "Loading from repository, Done!\n"
     ]
    }
   ],
   "source": [
    "%matplotlib inline\n",
    "import pandas as Excel\n",
    "import matplotlib.pyplot as plt\n",
    "from pandas.plotting import scatter_matrix    \n",
    "print('Loading from repository, Done!')\n"
   ]
  },
  {
   "cell_type": "markdown",
   "metadata": {
    "id": "2Ls_hFw2BPI0"
   },
   "source": [
    "# load your csv data\n",
    "# 'Excel' has different attributes. One of them is \"read_csv\" that can read a csv file."
   ]
  },
  {
   "cell_type": "code",
   "execution_count": 44,
   "metadata": {
    "colab": {
     "base_uri": "https://localhost:8080/"
    },
    "id": "Fh5blAm8BPI1",
    "outputId": "4cc0a2fb-7cc5-4951-95a5-1f575ab65f37"
   },
   "outputs": [
    {
     "name": "stdout",
     "output_type": "stream",
     "text": [
      "loading data, Done!\n"
     ]
    }
   ],
   "source": [
    "Excel_Data= Excel.read_csv('Hight_Weight.csv')\n",
    "print('loading data, Done!')"
   ]
  },
  {
   "cell_type": "markdown",
   "metadata": {
    "id": "AP2MW0grBPI1"
   },
   "source": [
    "# The csv file was loaded into Excel_Data. \n",
    "# Now, Excel_Data is a Pandas file, so it has the same attributes. So, we can perform many things with this loaded file."
   ]
  },
  {
   "cell_type": "markdown",
   "metadata": {
    "id": "WBAyLgkPBPI1"
   },
   "source": [
    "# head(n=5)\n",
    "# Return the first n rows.\n",
    "\n",
    "# This function returns the first n rows for the object based on position. It is useful for quickly testing if your object has the right type of data in it\n",
    "# Example:"
   ]
  },
  {
   "cell_type": "code",
   "execution_count": 45,
   "metadata": {
    "colab": {
     "base_uri": "https://localhost:8080/",
     "height": 417
    },
    "id": "6_-xhWi4BPI1",
    "outputId": "1f3058da-670f-4822-c41d-0c0bd9cd37f5"
   },
   "outputs": [
    {
     "data": {
      "text/html": [
       "<div>\n",
       "<style scoped>\n",
       "    .dataframe tbody tr th:only-of-type {\n",
       "        vertical-align: middle;\n",
       "    }\n",
       "\n",
       "    .dataframe tbody tr th {\n",
       "        vertical-align: top;\n",
       "    }\n",
       "\n",
       "    .dataframe thead th {\n",
       "        text-align: right;\n",
       "    }\n",
       "</style>\n",
       "<table border=\"1\" class=\"dataframe\">\n",
       "  <thead>\n",
       "    <tr style=\"text-align: right;\">\n",
       "      <th></th>\n",
       "      <th>Index</th>\n",
       "      <th>Height</th>\n",
       "      <th>Weight</th>\n",
       "    </tr>\n",
       "  </thead>\n",
       "  <tbody>\n",
       "    <tr>\n",
       "      <th>0</th>\n",
       "      <td>1</td>\n",
       "      <td>65.78331</td>\n",
       "      <td>112.9925</td>\n",
       "    </tr>\n",
       "    <tr>\n",
       "      <th>1</th>\n",
       "      <td>2</td>\n",
       "      <td>71.51521</td>\n",
       "      <td>136.4873</td>\n",
       "    </tr>\n",
       "    <tr>\n",
       "      <th>2</th>\n",
       "      <td>3</td>\n",
       "      <td>69.39874</td>\n",
       "      <td>153.0269</td>\n",
       "    </tr>\n",
       "    <tr>\n",
       "      <th>3</th>\n",
       "      <td>4</td>\n",
       "      <td>68.21660</td>\n",
       "      <td>142.3354</td>\n",
       "    </tr>\n",
       "    <tr>\n",
       "      <th>4</th>\n",
       "      <td>5</td>\n",
       "      <td>67.78781</td>\n",
       "      <td>144.2971</td>\n",
       "    </tr>\n",
       "    <tr>\n",
       "      <th>5</th>\n",
       "      <td>6</td>\n",
       "      <td>68.69784</td>\n",
       "      <td>123.3024</td>\n",
       "    </tr>\n",
       "    <tr>\n",
       "      <th>6</th>\n",
       "      <td>7</td>\n",
       "      <td>69.80204</td>\n",
       "      <td>141.4947</td>\n",
       "    </tr>\n",
       "    <tr>\n",
       "      <th>7</th>\n",
       "      <td>8</td>\n",
       "      <td>70.01472</td>\n",
       "      <td>136.4623</td>\n",
       "    </tr>\n",
       "    <tr>\n",
       "      <th>8</th>\n",
       "      <td>9</td>\n",
       "      <td>67.90265</td>\n",
       "      <td>112.3723</td>\n",
       "    </tr>\n",
       "    <tr>\n",
       "      <th>9</th>\n",
       "      <td>10</td>\n",
       "      <td>66.78236</td>\n",
       "      <td>120.6672</td>\n",
       "    </tr>\n",
       "  </tbody>\n",
       "</table>\n",
       "</div>"
      ],
      "text/plain": [
       "   Index    Height    Weight\n",
       "0      1  65.78331  112.9925\n",
       "1      2  71.51521  136.4873\n",
       "2      3  69.39874  153.0269\n",
       "3      4  68.21660  142.3354\n",
       "4      5  67.78781  144.2971\n",
       "5      6  68.69784  123.3024\n",
       "6      7  69.80204  141.4947\n",
       "7      8  70.01472  136.4623\n",
       "8      9  67.90265  112.3723\n",
       "9     10  66.78236  120.6672"
      ]
     },
     "execution_count": 45,
     "metadata": {},
     "output_type": "execute_result"
    }
   ],
   "source": [
    "Excel_Data.head(n=10)"
   ]
  },
  {
   "cell_type": "markdown",
   "metadata": {
    "id": "cjuqgNNWBPI2"
   },
   "source": [
    "# info\n",
    "Prints a concise summary of a DataFrame\n",
    "# Example"
   ]
  },
  {
   "cell_type": "code",
   "execution_count": 46,
   "metadata": {
    "colab": {
     "base_uri": "https://localhost:8080/"
    },
    "id": "gSzoonEQBPI2",
    "outputId": "2f7178ea-da36-42c3-c828-8d9bc150b744"
   },
   "outputs": [
    {
     "name": "stdout",
     "output_type": "stream",
     "text": [
      "<class 'pandas.core.frame.DataFrame'>\n",
      "RangeIndex: 25000 entries, 0 to 24999\n",
      "Data columns (total 3 columns):\n",
      " #   Column  Non-Null Count  Dtype  \n",
      "---  ------  --------------  -----  \n",
      " 0   Index   25000 non-null  int64  \n",
      " 1   Height  25000 non-null  float64\n",
      " 2   Weight  25000 non-null  float64\n",
      "dtypes: float64(2), int64(1)\n",
      "memory usage: 586.1 KB\n"
     ]
    }
   ],
   "source": [
    "Excel_Data.info()"
   ]
  },
  {
   "cell_type": "markdown",
   "metadata": {
    "id": "PZ0pE96TBPI2"
   },
   "source": [
    " # Shape\n",
    " Returns a tuple representing the dimensionality of the DataFrame\n",
    " # Example"
   ]
  },
  {
   "cell_type": "code",
   "execution_count": 47,
   "metadata": {
    "colab": {
     "base_uri": "https://localhost:8080/"
    },
    "id": "1LZovINYBPI2",
    "outputId": "740fc32c-49e8-4db4-a622-3b8e71b512f8"
   },
   "outputs": [
    {
     "data": {
      "text/plain": [
       "(25000, 3)"
      ]
     },
     "execution_count": 47,
     "metadata": {},
     "output_type": "execute_result"
    }
   ],
   "source": [
    "Excel_Data.shape"
   ]
  },
  {
   "cell_type": "code",
   "execution_count": 48,
   "metadata": {
    "colab": {
     "base_uri": "https://localhost:8080/"
    },
    "id": "ILQvVnzWBPI2",
    "outputId": "b3c6391e-ab51-461c-e145-bff8ecc7bcd6"
   },
   "outputs": [
    {
     "data": {
      "text/plain": [
       "Index     3.125125e+08\n",
       "Height    1.699828e+06\n",
       "Weight    3.176986e+06\n",
       "dtype: float64"
      ]
     },
     "execution_count": 48,
     "metadata": {},
     "output_type": "execute_result"
    }
   ],
   "source": [
    "Excel_Data.sum()  # sum of each column"
   ]
  },
  {
   "cell_type": "code",
   "execution_count": 49,
   "metadata": {
    "colab": {
     "base_uri": "https://localhost:8080/"
    },
    "id": "EjHLNGE4BPI3",
    "outputId": "3b61ba3b-8b4a-4fb0-d316-8a76be0a9f26"
   },
   "outputs": [
    {
     "data": {
      "text/plain": [
       "Index     12500.500000\n",
       "Height       67.993114\n",
       "Weight      127.079421\n",
       "dtype: float64"
      ]
     },
     "execution_count": 49,
     "metadata": {},
     "output_type": "execute_result"
    }
   ],
   "source": [
    "Excel_Data.mean() # Average of each column"
   ]
  },
  {
   "cell_type": "code",
   "execution_count": 50,
   "metadata": {
    "colab": {
     "base_uri": "https://localhost:8080/"
    },
    "id": "qrrjS3unBPI3",
    "outputId": "59016f7e-c73a-402a-f377-ad174b5342ed"
   },
   "outputs": [
    {
     "data": {
      "text/plain": [
       "Index     12500.50000\n",
       "Height       67.99570\n",
       "Weight      127.15775\n",
       "dtype: float64"
      ]
     },
     "execution_count": 50,
     "metadata": {},
     "output_type": "execute_result"
    }
   ],
   "source": [
    "Excel_Data.median() # Median of each column"
   ]
  },
  {
   "cell_type": "code",
   "execution_count": 68,
   "metadata": {
    "colab": {
     "base_uri": "https://localhost:8080/"
    },
    "id": "xPLRsltZBPI3",
    "outputId": "b037b2e6-25f9-49be-a7ca-6c38730c83fa"
   },
   "outputs": [
    {
     "data": {
      "text/plain": [
       "Index     5.208542e+07\n",
       "Height    3.616382e+00\n",
       "Weight    1.359765e+02\n",
       "dtype: float64"
      ]
     },
     "execution_count": 68,
     "metadata": {},
     "output_type": "execute_result"
    }
   ],
   "source": [
    "Excel_Data.var() # Varianve of each column"
   ]
  },
  {
   "cell_type": "code",
   "execution_count": 52,
   "metadata": {
    "colab": {
     "base_uri": "https://localhost:8080/"
    },
    "id": "JRVHr_l6BPI3",
    "outputId": "f5694963-3911-4067-c7a5-fd4ee9f421ac"
   },
   "outputs": [
    {
     "data": {
      "text/plain": [
       "Index     7217.022701\n",
       "Height       1.901679\n",
       "Weight      11.660898\n",
       "dtype: float64"
      ]
     },
     "execution_count": 52,
     "metadata": {},
     "output_type": "execute_result"
    }
   ],
   "source": [
    "Excel_Data.std() # Standard deviation of each column"
   ]
  },
  {
   "cell_type": "code",
   "execution_count": 53,
   "metadata": {
    "colab": {
     "base_uri": "https://localhost:8080/"
    },
    "id": "jxihURt-BPI4",
    "outputId": "ebb94991-59ee-4b2d-88f9-b9258d5d2104"
   },
   "outputs": [
    {
     "data": {
      "text/plain": [
       "Height    1.901679\n",
       "dtype: float64"
      ]
     },
     "execution_count": 53,
     "metadata": {},
     "output_type": "execute_result"
    }
   ],
   "source": [
    "Excel_Data[['Height']].std()  # Standard deviation of column 'Height'"
   ]
  },
  {
   "cell_type": "code",
   "execution_count": 54,
   "metadata": {
    "colab": {
     "base_uri": "https://localhost:8080/"
    },
    "id": "2kuFLed1BPI4",
    "outputId": "9c279dd8-ee96-4da3-a8ec-49085dca7b47"
   },
   "outputs": [
    {
     "data": {
      "text/plain": [
       "Height     1.901679\n",
       "Weight    11.660898\n",
       "dtype: float64"
      ]
     },
     "execution_count": 54,
     "metadata": {},
     "output_type": "execute_result"
    }
   ],
   "source": [
    "Excel_Data[['Height','Weight']].std()  # Standard deviation of two columns"
   ]
  },
  {
   "cell_type": "markdown",
   "metadata": {
    "id": "SjufeykiBPI4"
   },
   "source": [
    "# quantile\n",
    "Return values at the given quantile over requested axis.\n",
    "# Example"
   ]
  },
  {
   "cell_type": "code",
   "execution_count": 55,
   "metadata": {
    "colab": {
     "base_uri": "https://localhost:8080/",
     "height": 110
    },
    "id": "g3cBu8ycBPI4",
    "outputId": "5f589a50-6d6f-4c93-eb24-37d1a510af19"
   },
   "outputs": [
    {
     "data": {
      "text/html": [
       "<div>\n",
       "<style scoped>\n",
       "    .dataframe tbody tr th:only-of-type {\n",
       "        vertical-align: middle;\n",
       "    }\n",
       "\n",
       "    .dataframe tbody tr th {\n",
       "        vertical-align: top;\n",
       "    }\n",
       "\n",
       "    .dataframe thead th {\n",
       "        text-align: right;\n",
       "    }\n",
       "</style>\n",
       "<table border=\"1\" class=\"dataframe\">\n",
       "  <thead>\n",
       "    <tr style=\"text-align: right;\">\n",
       "      <th></th>\n",
       "      <th>Index</th>\n",
       "      <th>Height</th>\n",
       "      <th>Weight</th>\n",
       "    </tr>\n",
       "  </thead>\n",
       "  <tbody>\n",
       "    <tr>\n",
       "      <th>0.1</th>\n",
       "      <td>2500.9</td>\n",
       "      <td>65.543847</td>\n",
       "      <td>112.10984</td>\n",
       "    </tr>\n",
       "    <tr>\n",
       "      <th>0.9</th>\n",
       "      <td>22500.1</td>\n",
       "      <td>70.445094</td>\n",
       "      <td>141.91209</td>\n",
       "    </tr>\n",
       "  </tbody>\n",
       "</table>\n",
       "</div>"
      ],
      "text/plain": [
       "       Index     Height     Weight\n",
       "0.1   2500.9  65.543847  112.10984\n",
       "0.9  22500.1  70.445094  141.91209"
      ]
     },
     "execution_count": 55,
     "metadata": {},
     "output_type": "execute_result"
    }
   ],
   "source": [
    "Excel_Data.quantile([0.1, 0.9])"
   ]
  },
  {
   "cell_type": "code",
   "execution_count": 56,
   "metadata": {
    "colab": {
     "base_uri": "https://localhost:8080/"
    },
    "id": "OkVbq6FT8lhL",
    "outputId": "5fa495cc-c734-4bef-d90e-d3f31fbbdba4"
   },
   "outputs": [
    {
     "data": {
      "text/html": [
       "<div>\n",
       "<style scoped>\n",
       "    .dataframe tbody tr th:only-of-type {\n",
       "        vertical-align: middle;\n",
       "    }\n",
       "\n",
       "    .dataframe tbody tr th {\n",
       "        vertical-align: top;\n",
       "    }\n",
       "\n",
       "    .dataframe thead th {\n",
       "        text-align: right;\n",
       "    }\n",
       "</style>\n",
       "<table border=\"1\" class=\"dataframe\">\n",
       "  <thead>\n",
       "    <tr style=\"text-align: right;\">\n",
       "      <th></th>\n",
       "      <th>Height</th>\n",
       "    </tr>\n",
       "  </thead>\n",
       "  <tbody>\n",
       "    <tr>\n",
       "      <th>0.1</th>\n",
       "      <td>65.543847</td>\n",
       "    </tr>\n",
       "    <tr>\n",
       "      <th>0.9</th>\n",
       "      <td>70.445094</td>\n",
       "    </tr>\n",
       "  </tbody>\n",
       "</table>\n",
       "</div>"
      ],
      "text/plain": [
       "        Height\n",
       "0.1  65.543847\n",
       "0.9  70.445094"
      ]
     },
     "execution_count": 56,
     "metadata": {},
     "output_type": "execute_result"
    }
   ],
   "source": [
    "Excel_Data[[\"Height\"]].quantile([0.1, 0.9])"
   ]
  },
  {
   "cell_type": "code",
   "execution_count": 67,
   "metadata": {},
   "outputs": [
    {
     "data": {
      "text/plain": [
       "Height   -0.035159\n",
       "dtype: float64"
      ]
     },
     "execution_count": 67,
     "metadata": {},
     "output_type": "execute_result"
    }
   ],
   "source": [
    "Excel_Data[[\"Height\"]].kurtosis()"
   ]
  },
  {
   "cell_type": "code",
   "execution_count": 57,
   "metadata": {
    "colab": {
     "base_uri": "https://localhost:8080/"
    },
    "id": "4MoOArUuBPI4",
    "outputId": "1f1766cd-42e7-4997-c687-46e4c37e89b2"
   },
   "outputs": [
    {
     "data": {
      "text/plain": [
       "array([[65.78331],\n",
       "       [71.51521],\n",
       "       [69.39874],\n",
       "       ...,\n",
       "       [64.69855],\n",
       "       [67.52918],\n",
       "       [68.87761]])"
      ]
     },
     "execution_count": 57,
     "metadata": {},
     "output_type": "execute_result"
    }
   ],
   "source": [
    "Excel_Data[[\"Height\"]].values"
   ]
  },
  {
   "cell_type": "code",
   "execution_count": 58,
   "metadata": {
    "id": "Yz_lKUdHBPI4"
   },
   "outputs": [],
   "source": [
    "X1= Excel_Data[[\"Height\"]].values   # you can store the values in X1\n",
    "X2= Excel_Data[[\"Weight\"]].values"
   ]
  },
  {
   "cell_type": "markdown",
   "metadata": {
    "id": "C0-jOZMZBPI5"
   },
   "source": [
    "# describe\n",
    "Generates descriptive statistics of DataFrame columns\n",
    "# Example"
   ]
  },
  {
   "cell_type": "code",
   "execution_count": 59,
   "metadata": {
    "colab": {
     "base_uri": "https://localhost:8080/",
     "height": 295
    },
    "id": "eVScWyrKBPI5",
    "outputId": "099e9bcd-ca1b-4a5d-80c3-8f0903dff761"
   },
   "outputs": [
    {
     "data": {
      "text/html": [
       "<div>\n",
       "<style scoped>\n",
       "    .dataframe tbody tr th:only-of-type {\n",
       "        vertical-align: middle;\n",
       "    }\n",
       "\n",
       "    .dataframe tbody tr th {\n",
       "        vertical-align: top;\n",
       "    }\n",
       "\n",
       "    .dataframe thead th {\n",
       "        text-align: right;\n",
       "    }\n",
       "</style>\n",
       "<table border=\"1\" class=\"dataframe\">\n",
       "  <thead>\n",
       "    <tr style=\"text-align: right;\">\n",
       "      <th></th>\n",
       "      <th>Index</th>\n",
       "      <th>Height</th>\n",
       "      <th>Weight</th>\n",
       "    </tr>\n",
       "  </thead>\n",
       "  <tbody>\n",
       "    <tr>\n",
       "      <th>count</th>\n",
       "      <td>25000.000000</td>\n",
       "      <td>25000.000000</td>\n",
       "      <td>25000.000000</td>\n",
       "    </tr>\n",
       "    <tr>\n",
       "      <th>mean</th>\n",
       "      <td>12500.500000</td>\n",
       "      <td>67.993114</td>\n",
       "      <td>127.079421</td>\n",
       "    </tr>\n",
       "    <tr>\n",
       "      <th>std</th>\n",
       "      <td>7217.022701</td>\n",
       "      <td>1.901679</td>\n",
       "      <td>11.660898</td>\n",
       "    </tr>\n",
       "    <tr>\n",
       "      <th>min</th>\n",
       "      <td>1.000000</td>\n",
       "      <td>60.278360</td>\n",
       "      <td>78.014760</td>\n",
       "    </tr>\n",
       "    <tr>\n",
       "      <th>25%</th>\n",
       "      <td>6250.750000</td>\n",
       "      <td>66.704397</td>\n",
       "      <td>119.308675</td>\n",
       "    </tr>\n",
       "    <tr>\n",
       "      <th>50%</th>\n",
       "      <td>12500.500000</td>\n",
       "      <td>67.995700</td>\n",
       "      <td>127.157750</td>\n",
       "    </tr>\n",
       "    <tr>\n",
       "      <th>75%</th>\n",
       "      <td>18750.250000</td>\n",
       "      <td>69.272958</td>\n",
       "      <td>134.892850</td>\n",
       "    </tr>\n",
       "    <tr>\n",
       "      <th>max</th>\n",
       "      <td>25000.000000</td>\n",
       "      <td>75.152800</td>\n",
       "      <td>170.924000</td>\n",
       "    </tr>\n",
       "  </tbody>\n",
       "</table>\n",
       "</div>"
      ],
      "text/plain": [
       "              Index        Height        Weight\n",
       "count  25000.000000  25000.000000  25000.000000\n",
       "mean   12500.500000     67.993114    127.079421\n",
       "std     7217.022701      1.901679     11.660898\n",
       "min        1.000000     60.278360     78.014760\n",
       "25%     6250.750000     66.704397    119.308675\n",
       "50%    12500.500000     67.995700    127.157750\n",
       "75%    18750.250000     69.272958    134.892850\n",
       "max    25000.000000     75.152800    170.924000"
      ]
     },
     "execution_count": 59,
     "metadata": {},
     "output_type": "execute_result"
    }
   ],
   "source": [
    "Excel_Data.describe()"
   ]
  },
  {
   "cell_type": "code",
   "execution_count": 61,
   "metadata": {
    "colab": {
     "base_uri": "https://localhost:8080/",
     "height": 746
    },
    "id": "5giphKL0BPI5",
    "outputId": "e4e8a59b-b9ce-4c8b-dd36-6f1b4c6dee24"
   },
   "outputs": [
    {
     "data": {
      "text/plain": [
       "<function matplotlib.pyplot.show(close=None, block=None)>"
      ]
     },
     "execution_count": 61,
     "metadata": {},
     "output_type": "execute_result"
    },
    {
     "data": {
      "image/png": "[encoded data removed]",
      "text/plain": [
       "<Figure size 720x720 with 4 Axes>"
      ]
     },
     "metadata": {
      "needs_background": "light"
     },
     "output_type": "display_data"
    }
   ],
   "source": [
    "\n",
    "Excel_Data.hist(bins=20, figsize=(10,10))  # plot all histograms\n",
    "\n",
    "## you can change your plot and then save by following lines.\n",
    "\n",
    "fig_name='name_temp'  # choose a name for you plot to save for example 'hist_height'\n",
    "plt.tight_layout()   # this line remove extra borders and gives a tight plot\n",
    "plt.savefig(fig_name+'.png', format='png', dpi=100)   # this line save the plot\n",
    "plt.title(\"Height Hist\",fontsize=18)  # you ca change the title ad the fontsize \n",
    "plt.xlabel(\"Height\",fontsize=16)     # you can change the x label\n",
    "plt.ylabel(\"N\",fontsize=16)       # you can change the y label\n",
    "plt.show\n"
   ]
  },
  {
   "cell_type": "markdown",
   "metadata": {
    "id": "DijTcheaBPI5"
   },
   "source": [
    "# if you want to plot 'Hight' histogram "
   ]
  },
  {
   "cell_type": "code",
   "execution_count": 62,
   "metadata": {
    "colab": {
     "base_uri": "https://localhost:8080/",
     "height": 609
    },
    "id": "f-Qxmc3DBPI5",
    "outputId": "7b40f734-0eb7-4e91-eec5-418cc91fd796"
   },
   "outputs": [
    {
     "data": {
      "text/plain": [
       "array([[<AxesSubplot:title={'center':'Height'}>]], dtype=object)"
      ]
     },
     "execution_count": 62,
     "metadata": {},
     "output_type": "execute_result"
    },
    {
     "data": {
      "image/png": "[encoded data removed]",
      "text/plain": [
       "<Figure size 720x720 with 1 Axes>"
      ]
     },
     "metadata": {
      "needs_background": "light"
     },
     "output_type": "display_data"
    }
   ],
   "source": [
    "\n",
    "Excel_Data[['Height']].hist(bins=50, figsize=(10,10))    # plot a histogram of the feature, you can change the size and the histogram's bin\n",
    "\n"
   ]
  },
  {
   "cell_type": "code",
   "execution_count": 63,
   "metadata": {
    "colab": {
     "base_uri": "https://localhost:8080/",
     "height": 609
    },
    "id": "JxDdMuB2v50G",
    "outputId": "ab278610-2233-47b6-e2ee-9c3d2a27833d"
   },
   "outputs": [
    {
     "data": {
      "text/plain": [
       "<AxesSubplot:>"
      ]
     },
     "execution_count": 63,
     "metadata": {},
     "output_type": "execute_result"
    },
    {
     "data": {
      "image/png": "[encoded data removed]",
      "text/plain": [
       "<Figure size 720x720 with 1 Axes>"
      ]
     },
     "metadata": {
      "needs_background": "light"
     },
     "output_type": "display_data"
    }
   ],
   "source": [
    "Excel_Data['Weight'].hist(bins=50, figsize=(10,10))"
   ]
  },
  {
   "cell_type": "code",
   "execution_count": 64,
   "metadata": {
    "colab": {
     "base_uri": "https://localhost:8080/",
     "height": 282
    },
    "id": "iL9RAXWoBPI6",
    "outputId": "124579c0-360e-415c-8eef-418c80a92938"
   },
   "outputs": [
    {
     "data": {
      "text/plain": [
       "<AxesSubplot:ylabel='Density'>"
      ]
     },
     "execution_count": 64,
     "metadata": {},
     "output_type": "execute_result"
    },
    {
     "data": {
      "image/png": "[encoded data removed]",
      "text/plain": [
       "<Figure size 432x288 with 1 Axes>"
      ]
     },
     "metadata": {
      "needs_background": "light"
     },
     "output_type": "display_data"
    }
   ],
   "source": [
    "Excel_Data[['Height']].plot.kde()"
   ]
  },
  {
   "cell_type": "code",
   "execution_count": 65,
   "metadata": {
    "colab": {
     "base_uri": "https://localhost:8080/",
     "height": 282
    },
    "id": "eXqwHEk_BPI6",
    "outputId": "fcabd943-80a3-4418-b0a4-995294192e38"
   },
   "outputs": [
    {
     "data": {
      "text/plain": [
       "<AxesSubplot:ylabel='Density'>"
      ]
     },
     "execution_count": 65,
     "metadata": {},
     "output_type": "execute_result"
    },
    {
     "data": {
      "image/png": "[encoded data removed]",
      "text/plain": [
       "<Figure size 432x288 with 1 Axes>"
      ]
     },
     "metadata": {
      "needs_background": "light"
     },
     "output_type": "display_data"
    }
   ],
   "source": [
    "Excel_Data[['Weight']].plot.kde()"
   ]
  },
  {
   "cell_type": "code",
   "execution_count": 66,
   "metadata": {
    "colab": {
     "base_uri": "https://localhost:8080/",
     "height": 282
    },
    "id": "_GF_zm_iBPI6",
    "outputId": "4e835995-d0fa-40d5-e7e8-cae3cc41897f"
   },
   "outputs": [
    {
     "data": {
      "text/plain": [
       "<AxesSubplot:ylabel='Density'>"
      ]
     },
     "execution_count": 66,
     "metadata": {},
     "output_type": "execute_result"
    },
    {
     "data": {
      "image/png": "[encoded data removed]",
      "text/plain": [
       "<Figure size 432x288 with 1 Axes>"
      ]
     },
     "metadata": {
      "needs_background": "light"
     },
     "output_type": "display_data"
    }
   ],
   "source": [
    "Excel_Data[['Height','Weight']].plot.kde()"
   ]
  },
  {
   "cell_type": "code",
   "execution_count": 40,
   "metadata": {
    "id": "f8qQSvn-IyHZ"
   },
   "outputs": [],
   "source": [
    "#Excel_Data.plot(kind=\"scatter\", x=\"Height\", y=\"Weight\", alpha=0.1)"
   ]
  },
  {
   "cell_type": "code",
   "execution_count": 41,
   "metadata": {
    "id": "CHa8nnqBBPI6"
   },
   "outputs": [],
   "source": [
    "#Excel_Data.corr()"
   ]
  }
 ],
 "metadata": {
  "colab": {
   "name": "S01-Pandas-CSV.ipynb",
   "provenance": []
  },
  "kernelspec": {
   "display_name": "py3 gpu",
   "language": "python",
   "name": "tf-gpu"
  },
  "language_info": {
   "codemirror_mode": {
    "name": "ipython",
    "version": 3
   },
   "file_extension": ".py",
   "mimetype": "text/x-python",
   "name": "python",
   "nbconvert_exporter": "python",
   "pygments_lexer": "ipython3",
   "version": "3.8.5"
  }
 },
 "nbformat": 4,
 "nbformat_minor": 1
}
