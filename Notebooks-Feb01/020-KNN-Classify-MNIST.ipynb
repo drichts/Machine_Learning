{
 "cells": [
  {
   "cell_type": "code",
   "execution_count": 2,
   "metadata": {},
   "outputs": [
    {
     "name": "stdout",
     "output_type": "stream",
     "text": [
      "Done!\n"
     ]
    }
   ],
   "source": [
    "#loading packages\n",
    "%matplotlib inline\n",
    "import pandas as pd\n",
    "import os\n",
    "import time\n",
    "import numpy as np\n",
    "import matplotlib.pyplot as plt\n",
    "from sklearn.preprocessing import StandardScaler, MinMaxScaler\n",
    "from pandas.plotting import scatter_matrix    \n",
    "from sklearn.neighbors import KNeighborsRegressor\n",
    "import matplotlib.pyplot as plt\n",
    "import numpy as np\n",
    "from sklearn import datasets, linear_model\n",
    "from sklearn.model_selection import train_test_split\n",
    "from sklearn import linear_model\n",
    "import sys\n",
    "from sklearn.neighbors import KNeighborsClassifier\n",
    "from scipy.interpolate import interp1d\n",
    "from matplotlib import pyplot as plt\n",
    "from sklearn.preprocessing import PolynomialFeatures\n",
    "from sklearn.metrics import plot_confusion_matrix\n",
    "import matplotlib.pyplot as plt\n",
    "from sklearn import datasets, metrics, model_selection, svm\n",
    "from sklearn.decomposition import PCA\n",
    "\n",
    "print('Done!')\n"
   ]
  },
  {
   "cell_type": "code",
   "execution_count": 3,
   "metadata": {},
   "outputs": [
    {
     "name": "stdout",
     "output_type": "stream",
     "text": [
      "(60000, 784) (10000, 784)\n"
     ]
    }
   ],
   "source": [
    "## Getting MNIST data \n",
    "\n",
    "\n",
    "##Defining Input and target and normalizing the input\n",
    "\n",
    "\n",
    "\n",
    "from tensorflow.keras.datasets import mnist\n",
    "\n",
    "(inp_tr, tar_tr), (inp_va, tar_va) = mnist.load_data()\n",
    "inp_tr= inp_tr/255.\n",
    "inp_va= inp_va/255.\n",
    "inp_tr = np.reshape(inp_tr,(-1,784))\n",
    "inp_va = np.reshape(inp_va,(-1,784))\n",
    "\n",
    "\n",
    "\n",
    "print (np.shape(inp_tr),np.shape(inp_va))\n"
   ]
  },
  {
   "cell_type": "code",
   "execution_count": 4,
   "metadata": {},
   "outputs": [
    {
     "name": "stdout",
     "output_type": "stream",
     "text": [
      "[5 0 4 1 9 2 1 3 1 4 3 5 3 6 1 7 2 8 6 9 4 0 9 1 1 2 4 3 2 7 3 8 6 9 0 5 6\n",
      " 0 7 6 1 8 7 9 3 9 8 5 9 3 3 0 7 4 9 8 0 9 4 1 4 4 6 0 4 5 6 1 0 0 1 7 1 6\n",
      " 3 0 2 1 1 7 9 0 2 6 7 8 3 9 0 4 6 7 4 6 8 0 7 8 3 1]\n",
      "--------------------------------\n",
      "[7 2 1 0 4 1 4 9 5 9 0 6 9 0 1 5 9 7 3 4 9 6 6 5 4 0 7 4 0 1 3 1 3 4 7 2 7\n",
      " 1 2 1 1 7 4 2 3 5 1 2 4 4 6 3 5 5 6 0 4 1 9 5 7 8 9 3 7 4 6 4 3 0 7 0 2 9\n",
      " 1 7 3 2 9 7 7 6 2 7 8 4 7 3 6 1 3 6 9 3 1 4 1 7 6 9]\n"
     ]
    }
   ],
   "source": [
    "print (tar_tr[0:100]) ## Shuffled?  Yes!\n",
    "print ('--------------------------------')\n",
    "print (tar_va[0:100]) ## Shuffled?  Yes!"
   ]
  },
  {
   "cell_type": "code",
   "execution_count": 5,
   "metadata": {},
   "outputs": [
    {
     "data": {
      "text/plain": [
       "<Figure size 432x288 with 0 Axes>"
      ]
     },
     "metadata": {},
     "output_type": "display_data"
    },
    {
     "data": {
      "image/png": "[encoded data removed]",
      "text/plain": [
       "<Figure size 1152x504 with 30 Axes>"
      ]
     },
     "metadata": {
      "needs_background": "light"
     },
     "output_type": "display_data"
    }
   ],
   "source": [
    "# presenting some digits\n",
    "\n",
    "n1=0\n",
    "n2=30\n",
    "plt.gray()\n",
    "fig = plt.figure( figsize=(16,7) )\n",
    "for k1 in range(n1,n2):\n",
    "    ax = fig.add_subplot(3,10,k1+1, title=str(int(tar_tr[k1])))\n",
    "    ax.matshow(inp_tr[k1].reshape((28,28)).astype(float))\n",
    "    ax.get_xaxis().set_visible(False)\n",
    "    ax.get_yaxis().set_visible(False)\n",
    "    \n",
    "plt.show()"
   ]
  },
  {
   "cell_type": "code",
   "execution_count": 47,
   "metadata": {},
   "outputs": [
    {
     "name": "stdout",
     "output_type": "stream",
     "text": [
      "(5842, 784) (5842,)\n",
      "(54158, 784) (54158,)\n",
      "------------------------------------------\n",
      "(60000, 784)\n",
      "(60000,)\n"
     ]
    }
   ],
   "source": [
    "## Choose the positive and negative classes\n",
    "\n",
    "positive =4\n",
    "negative =9\n",
    "\n",
    "idx_tr_p= np.where(tar_tr==positive)[0]  # find index rows that are positive  (training set)\n",
    "idx_tr_n= np.where(tar_tr!=positive)[0]  # find index rows that are negative (training set)\n",
    "\n",
    "tar_tr_p= np.zeros(len(idx_tr_p))  # five is the positive  (1) in our binary classification\n",
    "tar_tr_n= np.ones(len(idx_tr_n))   # five is the negative (0) in our binary classification\n",
    "\n",
    "inp_tr_p=inp_tr[idx_tr_p,:]   # separate input related to 5\n",
    "inp_tr_n=inp_tr[idx_tr_n,:]   # separate input related to 5\n",
    "\n",
    "\n",
    "\n",
    "print (np.shape(inp_tr_p),np.shape(tar_tr_p))  # size input 5 and target 5\n",
    "print (np.shape(inp_tr_n),np.shape(tar_tr_n))  # size input 5 and target 5\n",
    "\n",
    "print('------------------------------------------')\n",
    "\n",
    "X_tr_Norm= np.concatenate((inp_tr_n,inp_tr_p))\n",
    "Y_tr= np.concatenate((tar_tr_n,tar_tr_p))\n",
    "\n",
    "print (np.shape(X_tr_Norm))  # size input 5&4 \n",
    "print (np.shape(Y_tr))  # size input 5&4 \n"
   ]
  },
  {
   "cell_type": "code",
   "execution_count": 48,
   "metadata": {},
   "outputs": [
    {
     "ename": "NameError",
     "evalue": "name 'tar_va1' is not defined",
     "output_type": "error",
     "traceback": [
      "\u001b[1;31m---------------------------------------------------------------------------\u001b[0m",
      "\u001b[1;31mNameError\u001b[0m                                 Traceback (most recent call last)",
      "\u001b[1;32m<ipython-input-48-be242b304042>\u001b[0m in \u001b[0;36m<module>\u001b[1;34m\u001b[0m\n\u001b[0;32m      1\u001b[0m \u001b[0midx_va_p\u001b[0m\u001b[1;33m=\u001b[0m \u001b[0mnp\u001b[0m\u001b[1;33m.\u001b[0m\u001b[0mwhere\u001b[0m\u001b[1;33m(\u001b[0m\u001b[0mtar_va\u001b[0m\u001b[1;33m==\u001b[0m\u001b[0mpositive\u001b[0m\u001b[1;33m)\u001b[0m\u001b[1;33m[\u001b[0m\u001b[1;36m0\u001b[0m\u001b[1;33m]\u001b[0m  \u001b[1;31m# find index rows that are positive  (training set)\u001b[0m\u001b[1;33m\u001b[0m\u001b[1;33m\u001b[0m\u001b[0m\n\u001b[1;32m----> 2\u001b[1;33m \u001b[0midx_va_n\u001b[0m\u001b[1;33m=\u001b[0m \u001b[0mnp\u001b[0m\u001b[1;33m.\u001b[0m\u001b[0mwhere\u001b[0m\u001b[1;33m(\u001b[0m\u001b[0mtar_va1\u001b[0m\u001b[1;33m!=\u001b[0m\u001b[0mpositive\u001b[0m\u001b[1;33m)\u001b[0m\u001b[1;33m[\u001b[0m\u001b[1;36m0\u001b[0m\u001b[1;33m]\u001b[0m  \u001b[1;31m# find index rows that are negative (training set)\u001b[0m\u001b[1;33m\u001b[0m\u001b[1;33m\u001b[0m\u001b[0m\n\u001b[0m\u001b[0;32m      3\u001b[0m \u001b[1;33m\u001b[0m\u001b[0m\n\u001b[0;32m      4\u001b[0m \u001b[0mtar_va_p\u001b[0m\u001b[1;33m=\u001b[0m \u001b[0mnp\u001b[0m\u001b[1;33m.\u001b[0m\u001b[0mzeros\u001b[0m\u001b[1;33m(\u001b[0m\u001b[0mlen\u001b[0m\u001b[1;33m(\u001b[0m\u001b[0midx_va_p\u001b[0m\u001b[1;33m)\u001b[0m\u001b[1;33m)\u001b[0m  \u001b[1;31m# five is the positive  (1) in our binary classification\u001b[0m\u001b[1;33m\u001b[0m\u001b[1;33m\u001b[0m\u001b[0m\n\u001b[0;32m      5\u001b[0m \u001b[0mtar_va_n\u001b[0m\u001b[1;33m=\u001b[0m \u001b[0mnp\u001b[0m\u001b[1;33m.\u001b[0m\u001b[0mones\u001b[0m\u001b[1;33m(\u001b[0m\u001b[0mlen\u001b[0m\u001b[1;33m(\u001b[0m\u001b[0midx_va_n\u001b[0m\u001b[1;33m)\u001b[0m\u001b[1;33m)\u001b[0m   \u001b[1;31m# five is the negative (0) in our binary classification\u001b[0m\u001b[1;33m\u001b[0m\u001b[1;33m\u001b[0m\u001b[0m\n",
      "\u001b[1;31mNameError\u001b[0m: name 'tar_va1' is not defined"
     ]
    }
   ],
   "source": [
    "idx_va_p= np.where(tar_va==positive)[0]  # find index rows that are positive  (training set)\n",
    "idx_va_n= np.where(tar_va1!=positive)[0]  # find index rows that are negative (training set)\n",
    "\n",
    "tar_va_p= np.zeros(len(idx_va_p))  # five is the positive  (1) in our binary classification\n",
    "tar_va_n= np.ones(len(idx_va_n))   # five is the negative (0) in our binary classification\n",
    "\n",
    "inp_va_p=inp_va[idx_va_p,:]   # separate input related to 5\n",
    "inp_va_n=inp_va[idx_va_n,:]   # separate input related to 5\n",
    "\n",
    "\n",
    "\n",
    "print (np.shape(inp_va_p),np.shape(tar_va_p))  # size input 5 and target 5\n",
    "print (np.shape(inp_va_n),np.shape(tar_va_n))  # size input 5 and target 5\n",
    "\n",
    "print('------------------------------------------')\n",
    "\n",
    "X_va_Norm= np.concatenate((inp_va_n,inp_va_p))\n",
    "Y_va= np.concatenate((tar_va_n,tar_va_p))\n",
    "\n",
    "print (np.shape(X_va_Norm))  # size input 5&4 \n",
    "print (np.shape(Y_va))  # size input 5&4 \n"
   ]
  },
  {
   "cell_type": "code",
   "execution_count": 7,
   "metadata": {},
   "outputs": [],
   "source": [
    "# time_start = time.time() \n",
    "# knn = KNeighborsClassifier(n_neighbors=30)\n",
    "\n",
    "\n",
    "# knn.fit (X_tr_Norm,Y_tr)  # fit the model with training set\n",
    "\n",
    "\n",
    "\n",
    "# ## predict the response for tr and va sets. We can have two outputs: probability (e.g.,Y_tr_prob ) and  the winner class (e.g.,Y_tr):\n",
    "# Y_tr_prob = knn.predict_proba(X_tr_Norm)[:,1]\n",
    "# Y_tr_pred = knn.predict(X_tr_Norm)\n",
    "\n",
    "# Y_va_prob = knn.predict_proba(X_va_Norm)[:,1]\n",
    "# Y_va_pred = knn.predict(X_va_Norm)\n",
    "\n",
    "\n",
    "# idx_tr_1 = (Y_tr==1)\n",
    "# idx_tr_0 = (Y_tr==0)\n",
    "\n",
    "\n",
    "# idx_va_1 = (Y_va==1)\n",
    "# idx_va_0 = (Y_va==0)\n",
    "\n",
    "\n",
    "# print ('Training done! Time elapsed: {} seconds'.format(time.time()-time_start))\n",
    "\n",
    "# print ('Done')"
   ]
  },
  {
   "cell_type": "code",
   "execution_count": null,
   "metadata": {},
   "outputs": [],
   "source": []
  },
  {
   "cell_type": "code",
   "execution_count": null,
   "metadata": {},
   "outputs": [],
   "source": []
  },
  {
   "cell_type": "code",
   "execution_count": 54,
   "metadata": {},
   "outputs": [
    {
     "data": {
      "image/png": "[encoded data removed]",
      "text/plain": [
       "<Figure size 576x576 with 3 Axes>"
      ]
     },
     "metadata": {},
     "output_type": "display_data"
    }
   ],
   "source": [
    "# use the first n principle componets to reconstract an image  \n",
    "\n",
    "\n",
    "n_pic = np.random.choice(np.arange(len(X_va_Norm)))  # pick up an image from the validation set to see the original and reconstructed images\n",
    "\n",
    "for kc in [300]:  # choose a number in the bracket as n principle componets\n",
    "    n_components=kc\n",
    "    pca=PCA(n_components=n_components)\n",
    "\n",
    "\n",
    "    pca.fit(inp_tr)\n",
    "    inp_tr_pca = pca.transform(X_tr_Norm)\n",
    "    inp_va_pca = pca.transform(X_va_Norm)\n",
    "\n",
    "    sx= int(np.sqrt(n_components))\n",
    "    sy= int(np.sqrt(n_components))\n",
    "    plt.figure(n_pic, figsize=(8,8))\n",
    "    approximation = pca.inverse_transform(inp_va_pca[n_pic]) # re-constract the image\n",
    "    fig = plt.figure(n_pic)\n",
    "    plt.subplot(1, 3, 1)\n",
    "    plt.imshow(X_va_Norm[n_pic].reshape(28,28),cmap='gray')\n",
    "    plt.title('28x28')\n",
    "    plt.xticks([])\n",
    "    plt.yticks([])\n",
    "    plt.subplot(1, 3, 2)\n",
    "    plt.imshow(inp_va_pca[n_pic].reshape((-1, n_components)),cmap='gray')\n",
    "    plt.title('--->  (1x'+str(n_components)+')  --->')\n",
    "    plt.xticks([])\n",
    "    plt.yticks([])\n",
    "    plt.subplot(1, 3, 3)\n",
    "    plt.imshow(approximation.reshape(28,28),cmap='gray')\n",
    "    plt.title('28x28')\n",
    "    plt.xticks([])\n",
    "    plt.yticks([])\n",
    "\n",
    "\n",
    "\n",
    "\n",
    "    plt.show()"
   ]
  },
  {
   "cell_type": "code",
   "execution_count": null,
   "metadata": {},
   "outputs": [],
   "source": [
    "\n",
    "\n",
    "\n",
    "time_start = time.time()\n",
    "\n",
    "knn = KNeighborsClassifier(n_neighbors=20)\n",
    "\n",
    "\n",
    "knn.fit (inp_tr_pca,Y_tr)  # fit the model with training set\n",
    "\n",
    "\n",
    "\n",
    "## predict the response for tr and va sets. We can have two outputs: probability (e.g.,Y_tr_prob ) and  the winner class (e.g.,Y_tr):\n",
    "Y_tr_prob = knn.predict_proba(inp_tr_pca)[:,1]\n",
    "Y_tr_pred = knn.predict(inp_tr_pca)\n",
    "\n",
    "Y_va_prob = knn.predict_proba(inp_va_pca)[:,1]\n",
    "Y_va_pred = knn.predict(inp_va_pca)\n",
    "\n",
    "\n",
    "idx_tr_1 = (Y_tr==1)\n",
    "idx_tr_0 = (Y_tr==0)\n",
    "\n",
    "\n",
    "idx_va_1 = (Y_va==1)\n",
    "idx_va_0 = (Y_va==0)\n",
    "\n",
    "\n",
    "print ('Training done! Time elapsed: {} seconds'.format(time.time()-time_start))\n",
    "\n",
    "print ('Done')\n"
   ]
  },
  {
   "cell_type": "code",
   "execution_count": null,
   "metadata": {},
   "outputs": [],
   "source": []
  },
  {
   "cell_type": "markdown",
   "metadata": {},
   "source": [
    "## Checking different metrics (for training and validation sets)"
   ]
  },
  {
   "cell_type": "code",
   "execution_count": 51,
   "metadata": {},
   "outputs": [
    {
     "data": {
      "text/plain": [
       "<matplotlib.legend.Legend at 0x22063b57ec8>"
      ]
     },
     "execution_count": 51,
     "metadata": {},
     "output_type": "execute_result"
    },
    {
     "data": {
      "image/png": "[encoded data removed]",
      "text/plain": [
       "<Figure size 720x432 with 1 Axes>"
      ]
     },
     "metadata": {
      "needs_background": "light"
     },
     "output_type": "display_data"
    }
   ],
   "source": [
    "plt.figure(figsize=(10, 6))\n",
    "\n",
    "plt.figure(1)\n",
    "plt.hist(Y_tr_prob[idx_tr_1],20,histtype='step',color = \"blue\", label= str (positive)+'  (TR)')\n",
    "\n",
    "plt.xlim([0,1])\n",
    "plt.legend()\n",
    "\n",
    "\n",
    "plt.figure(1)\n",
    "plt.hist(Y_tr_prob[idx_tr_0],20,histtype='step',color = \"red\",label=str(negative)+' (TR)')\n",
    "\n",
    "plt.xlim([0,1])\n",
    "\n",
    "plt.legend()"
   ]
  },
  {
   "cell_type": "code",
   "execution_count": null,
   "metadata": {},
   "outputs": [],
   "source": []
  },
  {
   "cell_type": "markdown",
   "metadata": {},
   "source": []
  },
  {
   "cell_type": "code",
   "execution_count": null,
   "metadata": {},
   "outputs": [],
   "source": []
  },
  {
   "cell_type": "code",
   "execution_count": 52,
   "metadata": {},
   "outputs": [
    {
     "data": {
      "text/plain": [
       "<matplotlib.legend.Legend at 0x22063bbd5c8>"
      ]
     },
     "execution_count": 52,
     "metadata": {},
     "output_type": "execute_result"
    },
    {
     "data": {
      "image/png": "[encoded data removed]",
      "text/plain": [
       "<Figure size 720x432 with 1 Axes>"
      ]
     },
     "metadata": {
      "needs_background": "light"
     },
     "output_type": "display_data"
    }
   ],
   "source": [
    "plt.figure(figsize=(10, 6))\n",
    "\n",
    "plt.figure(1)\n",
    "plt.hist(Y_va_prob[idx_va_1],20,histtype='step',color = \"blue\", label= str (positive)+'  (VA)')\n",
    "\n",
    "plt.xlim([0,1])\n",
    "plt.legend()\n",
    "\n",
    "\n",
    "plt.figure(1)\n",
    "plt.hist(Y_va_prob[idx_va_0],20,histtype='step',color = \"red\",label= str (negative)+'  (VA)')\n",
    "\n",
    "plt.xlim([0,1])\n",
    "\n",
    "plt.legend()"
   ]
  },
  {
   "cell_type": "code",
   "execution_count": 53,
   "metadata": {},
   "outputs": [
    {
     "data": {
      "text/plain": [
       "Text(0.5, 1.0, 'AUC Training')"
      ]
     },
     "execution_count": 53,
     "metadata": {},
     "output_type": "execute_result"
    },
    {
     "data": {
      "image/png": "[encoded data removed]",
      "text/plain": [
       "<Figure size 432x288 with 1 Axes>"
      ]
     },
     "metadata": {
      "needs_background": "light"
     },
     "output_type": "display_data"
    }
   ],
   "source": [
    "\n",
    "metrics.plot_roc_curve(knn, inp_tr_pca, Y_tr)\n",
    "plt.title('AUC Training')"
   ]
  },
  {
   "cell_type": "code",
   "execution_count": 46,
   "metadata": {},
   "outputs": [
    {
     "data": {
      "text/plain": [
       "Text(0.5, 1.0, 'AUC Validation')"
      ]
     },
     "execution_count": 46,
     "metadata": {},
     "output_type": "execute_result"
    },
    {
     "data": {
      "image/png": "[encoded data removed]",
      "text/plain": [
       "<Figure size 432x288 with 1 Axes>"
      ]
     },
     "metadata": {
      "needs_background": "light"
     },
     "output_type": "display_data"
    }
   ],
   "source": [
    "metrics.plot_roc_curve(knn, inp_va_pca, Y_va)\n",
    "plt.title('AUC Validation')"
   ]
  },
  {
   "cell_type": "code",
   "execution_count": 15,
   "metadata": {},
   "outputs": [
    {
     "data": {
      "text/plain": [
       "Text(0.5, 1.0, 'TR')"
      ]
     },
     "execution_count": 15,
     "metadata": {},
     "output_type": "execute_result"
    },
    {
     "data": {
      "image/png": "[encoded data removed]",
      "text/plain": [
       "<Figure size 432x288 with 2 Axes>"
      ]
     },
     "metadata": {
      "needs_background": "light"
     },
     "output_type": "display_data"
    }
   ],
   "source": [
    "plot_confusion_matrix(knn, inp_tr_pca, Y_tr, normalize='true') \n",
    "plt.title('TR')"
   ]
  },
  {
   "cell_type": "code",
   "execution_count": 16,
   "metadata": {},
   "outputs": [
    {
     "data": {
      "text/plain": [
       "Text(0.5, 1.0, 'VA')"
      ]
     },
     "execution_count": 16,
     "metadata": {},
     "output_type": "execute_result"
    },
    {
     "data": {
      "image/png": "[encoded data removed]",
      "text/plain": [
       "<Figure size 432x288 with 2 Axes>"
      ]
     },
     "metadata": {
      "needs_background": "light"
     },
     "output_type": "display_data"
    }
   ],
   "source": [
    "plot_confusion_matrix(knn, inp_va_pca, Y_va, normalize='true') \n",
    "plt.title('VA')"
   ]
  },
  {
   "cell_type": "code",
   "execution_count": 16,
   "metadata": {},
   "outputs": [
    {
     "name": "stdout",
     "output_type": "stream",
     "text": [
      "Accuracy (TR) =  0.9980268025980432\n",
      "Accuracy (VA) =  0.9990133201776024\n"
     ]
    }
   ],
   "source": [
    "print (\"Accuracy (TR) = \", metrics.accuracy_score(Y_tr, Y_tr_pred))\n",
    "print (\"Accuracy (VA) = \", metrics.accuracy_score(Y_va, Y_va_pred))"
   ]
  },
  {
   "cell_type": "code",
   "execution_count": 17,
   "metadata": {},
   "outputs": [
    {
     "name": "stdout",
     "output_type": "stream",
     "text": [
      "Recall (TR) =  0.9983684366656779\n",
      "Recall (VA) =  1.0\n"
     ]
    }
   ],
   "source": [
    "print (\"Recall (TR) = \", metrics.recall_score(Y_tr, Y_tr_pred))\n",
    "print (\"Recall (VA) = \", metrics.recall_score(Y_va, Y_va_pred))"
   ]
  },
  {
   "cell_type": "code",
   "execution_count": 18,
   "metadata": {},
   "outputs": [
    {
     "name": "stdout",
     "output_type": "stream",
     "text": [
      "Precision (TR) =  0.9980723606168446\n",
      "Precision (VA) =  0.9982409850483729\n"
     ]
    }
   ],
   "source": [
    "print (\"Precision (TR) = \", metrics.precision_score(Y_tr, Y_tr_pred))\n",
    "print (\"Precision (VA) = \", metrics.precision_score(Y_va, Y_va_pred))"
   ]
  }
 ],
 "metadata": {
  "kernelspec": {
   "display_name": "Python 3",
   "language": "python",
   "name": "python3"
  },
  "language_info": {
   "codemirror_mode": {
    "name": "ipython",
    "version": 3
   },
   "file_extension": ".py",
   "mimetype": "text/x-python",
   "name": "python",
   "nbconvert_exporter": "python",
   "pygments_lexer": "ipython3",
   "version": "3.7.7"
  }
 },
 "nbformat": 4,
 "nbformat_minor": 2
}
