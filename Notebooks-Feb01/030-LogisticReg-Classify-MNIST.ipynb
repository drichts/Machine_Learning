{
 "cells": [
  {
   "cell_type": "code",
   "execution_count": 1,
   "metadata": {},
   "outputs": [
    {
     "name": "stdout",
     "output_type": "stream",
     "text": [
      "Done!\n"
     ]
    }
   ],
   "source": [
    "#loading packages\n",
    "%matplotlib inline\n",
    "import pandas as pd\n",
    "import os\n",
    "import time\n",
    "import numpy as np\n",
    "import matplotlib.pyplot as plt\n",
    "from sklearn.preprocessing import StandardScaler, MinMaxScaler\n",
    "from pandas.plotting import scatter_matrix    \n",
    "from sklearn.neighbors import KNeighborsRegressor\n",
    "import matplotlib.pyplot as plt\n",
    "import numpy as np\n",
    "from sklearn import datasets, linear_model\n",
    "from sklearn.model_selection import train_test_split\n",
    "from sklearn import linear_model\n",
    "import sys\n",
    "from sklearn.neighbors import KNeighborsClassifier\n",
    "from scipy.interpolate import interp1d\n",
    "from matplotlib import pyplot as plt\n",
    "from sklearn.preprocessing import PolynomialFeatures\n",
    "from sklearn.metrics import plot_confusion_matrix\n",
    "import matplotlib.pyplot as plt\n",
    "from sklearn import datasets, metrics, model_selection, svm\n",
    "from sklearn.decomposition import PCA\n",
    "\n",
    "print('Done!')\n"
   ]
  },
  {
   "cell_type": "code",
   "execution_count": 2,
   "metadata": {},
   "outputs": [
    {
     "name": "stdout",
     "output_type": "stream",
     "text": [
      "(60000, 784) (10000, 784)\n"
     ]
    }
   ],
   "source": [
    "## Getting MNIST data \n",
    "\n",
    "\n",
    "##Defining Input and target and normalizing the input\n",
    "\n",
    "\n",
    "\n",
    "from tensorflow.keras.datasets import mnist\n",
    "\n",
    "(inp_tr, tar_tr), (inp_va, tar_va) = mnist.load_data()\n",
    "inp_tr= inp_tr/255.\n",
    "inp_va= inp_va/255.\n",
    "inp_tr = np.reshape(inp_tr,(-1,784))\n",
    "inp_va = np.reshape(inp_va,(-1,784))\n",
    "\n",
    "\n",
    "\n",
    "print (np.shape(inp_tr),np.shape(inp_va))\n"
   ]
  },
  {
   "cell_type": "code",
   "execution_count": 3,
   "metadata": {},
   "outputs": [
    {
     "name": "stdout",
     "output_type": "stream",
     "text": [
      "[5 0 4 1 9 2 1 3 1 4 3 5 3 6 1 7 2 8 6 9 4 0 9 1 1 2 4 3 2 7 3 8 6 9 0 5 6\n",
      " 0 7 6 1 8 7 9 3 9 8 5 9 3 3 0 7 4 9 8 0 9 4 1 4 4 6 0 4 5 6 1 0 0 1 7 1 6\n",
      " 3 0 2 1 1 7 9 0 2 6 7 8 3 9 0 4 6 7 4 6 8 0 7 8 3 1]\n",
      "--------------------------------\n",
      "[7 2 1 0 4 1 4 9 5 9 0 6 9 0 1 5 9 7 3 4 9 6 6 5 4 0 7 4 0 1 3 1 3 4 7 2 7\n",
      " 1 2 1 1 7 4 2 3 5 1 2 4 4 6 3 5 5 6 0 4 1 9 5 7 8 9 3 7 4 6 4 3 0 7 0 2 9\n",
      " 1 7 3 2 9 7 7 6 2 7 8 4 7 3 6 1 3 6 9 3 1 4 1 7 6 9]\n"
     ]
    }
   ],
   "source": [
    "print (tar_tr[0:100]) ## Shuffled?  Yes!\n",
    "print ('--------------------------------')\n",
    "print (tar_va[0:100]) ## Shuffled?  Yes!"
   ]
  },
  {
   "cell_type": "code",
   "execution_count": 4,
   "metadata": {},
   "outputs": [
    {
     "data": {
      "text/plain": [
       "<Figure size 432x288 with 0 Axes>"
      ]
     },
     "metadata": {},
     "output_type": "display_data"
    },
    {
     "data": {
      "image/png": "[encoded data removed]",
      "text/plain": [
       "<Figure size 1152x504 with 30 Axes>"
      ]
     },
     "metadata": {
      "needs_background": "light"
     },
     "output_type": "display_data"
    }
   ],
   "source": [
    "# presenting some digits\n",
    "\n",
    "n1=0\n",
    "n2=30\n",
    "plt.gray()\n",
    "fig = plt.figure( figsize=(16,7) )\n",
    "for k1 in range(n1,n2):\n",
    "    ax = fig.add_subplot(3,10,k1+1, title=str(int(tar_tr[k1])))\n",
    "    ax.matshow(inp_tr[k1].reshape((28,28)).astype(float))\n",
    "    ax.get_xaxis().set_visible(False)\n",
    "    ax.get_yaxis().set_visible(False)\n",
    "    \n",
    "plt.show()"
   ]
  },
  {
   "cell_type": "code",
   "execution_count": 5,
   "metadata": {},
   "outputs": [
    {
     "name": "stdout",
     "output_type": "stream",
     "text": [
      "(5421, 784) (5421,)\n",
      "(6742, 784) (6742,)\n",
      "------------------------------------------\n",
      "(12163, 784)\n",
      "(12163,)\n"
     ]
    }
   ],
   "source": [
    "positive = 5\n",
    "negative = 1\n",
    "\n",
    "idx_tr_p= np.where(tar_tr==positive)[0]  # find index rows that are positive  (training set)\n",
    "idx_tr_n= np.where(tar_tr==negative)[0]  # find index rows that are negative (training set)\n",
    "\n",
    "tar_tr_p= np.zeros(len(idx_tr_p))  # five is the positive  (1) in our binary classification\n",
    "tar_tr_n= np.ones(len(idx_tr_n))   # five is the negative (0) in our binary classification\n",
    "\n",
    "inp_tr_p=inp_tr[idx_tr_p,:]   # separate input related to 5\n",
    "inp_tr_n=inp_tr[idx_tr_n,:]   # separate input related to 5\n",
    "\n",
    "\n",
    "\n",
    "print (np.shape(inp_tr_p),np.shape(tar_tr_p))  # size input 5 and target 5\n",
    "print (np.shape(inp_tr_n),np.shape(tar_tr_n))  # size input 5 and target 5\n",
    "\n",
    "print('------------------------------------------')\n",
    "\n",
    "X_tr_Norm= np.concatenate((inp_tr_n,inp_tr_p))\n",
    "Y_tr= np.concatenate((tar_tr_n,tar_tr_p))\n",
    "\n",
    "print (np.shape(X_tr_Norm))  # size input 5&4 \n",
    "print (np.shape(Y_tr))  # size input 5&4 \n"
   ]
  },
  {
   "cell_type": "code",
   "execution_count": 6,
   "metadata": {},
   "outputs": [
    {
     "name": "stdout",
     "output_type": "stream",
     "text": [
      "(892, 784) (892,)\n",
      "(1135, 784) (1135,)\n",
      "------------------------------------------\n",
      "(2027, 784)\n",
      "(2027,)\n"
     ]
    }
   ],
   "source": [
    "idx_va_p= np.where(tar_va==positive)[0]  # find index rows that are positive  (training set)\n",
    "idx_va_n= np.where(tar_va==negative)[0]  # find index rows that are negative (training set)\n",
    "\n",
    "tar_va_p= np.zeros(len(idx_va_p))  # five is the positive  (1) in our binary classification\n",
    "tar_va_n= np.ones(len(idx_va_n))   # five is the negative (0) in our binary classification\n",
    "\n",
    "inp_va_p=inp_va[idx_va_p,:]   # separate input related to 5\n",
    "inp_va_n=inp_va[idx_va_n,:]   # separate input related to 5\n",
    "\n",
    "\n",
    "\n",
    "print (np.shape(inp_va_p),np.shape(tar_va_p))  # size input 5 and target 5\n",
    "print (np.shape(inp_va_n),np.shape(tar_va_n))  # size input 5 and target 5\n",
    "\n",
    "print('------------------------------------------')\n",
    "\n",
    "X_va_Norm= np.concatenate((inp_va_n,inp_va_p))\n",
    "Y_va= np.concatenate((tar_va_n,tar_va_p))\n",
    "\n",
    "print (np.shape(X_va_Norm))  # size input 5&4 \n",
    "print (np.shape(Y_va))  # size input 5&4 \n"
   ]
  },
  {
   "cell_type": "code",
   "execution_count": 7,
   "metadata": {},
   "outputs": [],
   "source": [
    "\n",
    "# time_start = time.time()\n",
    "# knn = KNeighborsClassifier(n_neighbors=30)\n",
    "\n",
    "\n",
    "# knn.fit (X_tr_Norm,Y_tr)  # fit the model with training set\n",
    "\n",
    "\n",
    "\n",
    "# ## predict the response for tr and va sets. We can have two outputs: probability (e.g.,Y_tr_prob ) and  the winner class (e.g.,Y_tr):\n",
    "# Y_tr_prob = knn.predict_proba(X_tr_Norm)[:,1]\n",
    "# Y_tr_pred = knn.predict(X_tr_Norm)\n",
    "\n",
    "# Y_va_prob = knn.predict_proba(X_va_Norm)[:,1]\n",
    "# Y_va_pred = knn.predict(X_va_Norm)\n",
    "\n",
    "\n",
    "# idx_tr_1 = (Y_tr==1)\n",
    "# idx_tr_0 = (Y_tr==0)\n",
    "\n",
    "\n",
    "# idx_va_1 = (Y_va==1)\n",
    "# idx_va_0 = (Y_va==0)\n",
    "\n",
    "\n",
    "# print ('Training done! Time elapsed: {} seconds'.format(time.time()-time_start))\n",
    "\n",
    "# print ('Done')"
   ]
  },
  {
   "cell_type": "code",
   "execution_count": null,
   "metadata": {},
   "outputs": [],
   "source": []
  },
  {
   "cell_type": "code",
   "execution_count": null,
   "metadata": {},
   "outputs": [],
   "source": []
  },
  {
   "cell_type": "code",
   "execution_count": 19,
   "metadata": {},
   "outputs": [
    {
     "data": {
      "image/png": "[encoded data removed]",
      "text/plain": [
       "<Figure size 576x576 with 3 Axes>"
      ]
     },
     "metadata": {},
     "output_type": "display_data"
    }
   ],
   "source": [
    "# use the first n principle componets to reconstract an image  \n",
    "\n",
    "\n",
    "n_pic = np.random.choice(np.arange(len(X_va_Norm)))  # pick up an image from the validation set to see the original and reconstructed images\n",
    "for kc in [400]:  # choose a number in the bracket as n principle componets\n",
    "    n_components=kc\n",
    "    pca=PCA(n_components=n_components)\n",
    "\n",
    "\n",
    "    pca.fit(inp_tr)\n",
    "    inp_tr_pca = pca.transform(X_tr_Norm)\n",
    "    inp_va_pca = pca.transform(X_va_Norm)\n",
    "\n",
    "    sx= int(np.sqrt(n_components))\n",
    "    sy= int(np.sqrt(n_components))\n",
    "    plt.figure(n_pic, figsize=(8,8))\n",
    "    approximation = pca.inverse_transform(inp_va_pca[n_pic]) # re-constract the image\n",
    "    fig = plt.figure(n_pic)\n",
    "    plt.subplot(1, 3, 1)\n",
    "    plt.imshow(X_va_Norm[n_pic].reshape(28,28),cmap='gray')\n",
    "    plt.title('28x28')\n",
    "    plt.xticks([])\n",
    "    plt.yticks([])\n",
    "    plt.subplot(1, 3, 2)\n",
    "    plt.imshow(inp_va_pca[n_pic].reshape((-1, n_components)),cmap='gray')\n",
    "    plt.title('--->  (1x'+str(n_components)+')  --->')\n",
    "    plt.xticks([])\n",
    "    plt.yticks([])\n",
    "    plt.subplot(1, 3, 3)\n",
    "    plt.imshow(approximation.reshape(28,28),cmap='gray')\n",
    "    plt.title('28x28')\n",
    "    plt.xticks([])\n",
    "    plt.yticks([])\n",
    "\n",
    "\n",
    "\n",
    "\n",
    "    plt.show()"
   ]
  },
  {
   "cell_type": "code",
   "execution_count": 53,
   "metadata": {},
   "outputs": [
    {
     "name": "stdout",
     "output_type": "stream",
     "text": [
      "Training done! Time elapsed: 0.17415738105773926 seconds\n",
      "Done\n"
     ]
    }
   ],
   "source": [
    "\n",
    "time_start = time.time()\n",
    "cls = linear_model.LogisticRegression(penalty='l1',  tol=0.001, C=0.001, solver='liblinear', max_iter=50) \n",
    "# cls= linear_model.SGDClassifier(loss='log', penalty='l2', alpha=0.0000001, \n",
    "#                                    l1_ratio=0.15, fit_intercept=True, max_iter=1000,\n",
    "#                                    tol=0.001, shuffle=True, verbose=0, epsilon=0.1,\n",
    "#                                    n_jobs=None, random_state=None, learning_rate='optimal',\n",
    "#                                    eta0=0.0, power_t=0.5, early_stopping=False,\n",
    "#                                    validation_fraction=0.1, n_iter_no_change=5,\n",
    "#                                    class_weight=None, warm_start=False, average=False)\n",
    "\n",
    "cls.fit (inp_tr_pca,Y_tr)  # fit the model with training set\n",
    "\n",
    "\n",
    "\n",
    "## predict the response for tr and va sets. We can have two outputs: probability (e.g.,Y_tr_prob ) and  the winner class (e.g.,Y_tr):\n",
    "Y_tr_prob = cls.predict_proba(inp_tr_pca)[:,1]\n",
    "Y_tr_pred = cls.predict(inp_tr_pca)\n",
    "\n",
    "Y_va_prob = cls.predict_proba(inp_va_pca)[:,1]\n",
    "Y_va_pred = cls.predict(inp_va_pca)\n",
    "\n",
    "\n",
    "idx_tr_1 = (Y_tr==1)\n",
    "idx_tr_0 = (Y_tr==0)\n",
    "\n",
    "\n",
    "idx_va_1 = (Y_va==1)\n",
    "idx_va_0 = (Y_va==0)\n",
    "\n",
    "\n",
    "print ('Training done! Time elapsed: {} seconds'.format(time.time()-time_start))\n",
    "\n",
    "print ('Done')\n"
   ]
  },
  {
   "cell_type": "code",
   "execution_count": null,
   "metadata": {},
   "outputs": [],
   "source": []
  },
  {
   "cell_type": "markdown",
   "metadata": {},
   "source": [
    "## Checking different metrics (for training and validation sets)"
   ]
  },
  {
   "cell_type": "code",
   "execution_count": 54,
   "metadata": {},
   "outputs": [
    {
     "data": {
      "text/plain": [
       "<matplotlib.legend.Legend at 0x27a78cd9708>"
      ]
     },
     "execution_count": 54,
     "metadata": {},
     "output_type": "execute_result"
    },
    {
     "data": {
      "image/png": "[encoded data removed]",
      "text/plain": [
       "<Figure size 720x432 with 1 Axes>"
      ]
     },
     "metadata": {
      "needs_background": "light"
     },
     "output_type": "display_data"
    }
   ],
   "source": [
    "plt.figure(figsize=(10, 6))\n",
    "\n",
    "plt.figure(1)\n",
    "plt.hist(Y_tr_prob[idx_tr_1],20,histtype='step',color = \"blue\", label= str (positive)+'  (TR)')\n",
    "\n",
    "plt.xlim([0,1])\n",
    "plt.legend()\n",
    "\n",
    "\n",
    "plt.figure(1)\n",
    "plt.hist(Y_tr_prob[idx_tr_0],20,histtype='step',color = \"red\",label=str(negative)+' (TR)')\n",
    "\n",
    "plt.xlim([0,1])\n",
    "\n",
    "plt.legend()"
   ]
  },
  {
   "cell_type": "code",
   "execution_count": 55,
   "metadata": {},
   "outputs": [
    {
     "data": {
      "text/plain": [
       "<matplotlib.legend.Legend at 0x27a4d07d6c8>"
      ]
     },
     "execution_count": 55,
     "metadata": {},
     "output_type": "execute_result"
    },
    {
     "data": {
      "image/png": "[encoded data removed]",
      "text/plain": [
       "<Figure size 720x432 with 1 Axes>"
      ]
     },
     "metadata": {
      "needs_background": "light"
     },
     "output_type": "display_data"
    }
   ],
   "source": [
    "plt.figure(figsize=(10, 6))\n",
    "\n",
    "plt.figure(1)\n",
    "plt.hist(Y_va_prob[idx_va_1],20,histtype='step',color = \"blue\", label= str (positive)+'  (VA)')\n",
    "\n",
    "plt.xlim([0,1])\n",
    "plt.legend()\n",
    "\n",
    "\n",
    "plt.figure(1)\n",
    "plt.hist(Y_va_prob[idx_va_0],20,histtype='step',color = \"red\",label= str (negative)+'  (VA)')\n",
    "\n",
    "plt.xlim([0,1])\n",
    "\n",
    "plt.legend()"
   ]
  },
  {
   "cell_type": "code",
   "execution_count": 56,
   "metadata": {},
   "outputs": [
    {
     "name": "stderr",
     "output_type": "stream",
     "text": [
      "c:\\users\\drich\\appdata\\local\\programs\\python\\python37\\lib\\site-packages\\sklearn\\utils\\deprecation.py:87: FutureWarning: Function plot_confusion_matrix is deprecated; Function `plot_confusion_matrix` is deprecated in 1.0 and will be removed in 1.2. Use one of the class methods: ConfusionMatrixDisplay.from_predictions or ConfusionMatrixDisplay.from_estimator.\n",
      "  warnings.warn(msg, category=FutureWarning)\n"
     ]
    },
    {
     "data": {
      "text/plain": [
       "Text(0.5, 1.0, 'TR')"
      ]
     },
     "execution_count": 56,
     "metadata": {},
     "output_type": "execute_result"
    },
    {
     "data": {
      "image/png": "[encoded data removed]",
      "text/plain": [
       "<Figure size 432x288 with 2 Axes>"
      ]
     },
     "metadata": {
      "needs_background": "light"
     },
     "output_type": "display_data"
    }
   ],
   "source": [
    "plot_confusion_matrix(cls, inp_tr_pca, Y_tr, normalize='true') \n",
    "plt.title('TR')"
   ]
  },
  {
   "cell_type": "code",
   "execution_count": 57,
   "metadata": {},
   "outputs": [
    {
     "name": "stderr",
     "output_type": "stream",
     "text": [
      "c:\\users\\drich\\appdata\\local\\programs\\python\\python37\\lib\\site-packages\\sklearn\\utils\\deprecation.py:87: FutureWarning: Function plot_confusion_matrix is deprecated; Function `plot_confusion_matrix` is deprecated in 1.0 and will be removed in 1.2. Use one of the class methods: ConfusionMatrixDisplay.from_predictions or ConfusionMatrixDisplay.from_estimator.\n",
      "  warnings.warn(msg, category=FutureWarning)\n"
     ]
    },
    {
     "data": {
      "text/plain": [
       "Text(0.5, 1.0, 'VA')"
      ]
     },
     "execution_count": 57,
     "metadata": {},
     "output_type": "execute_result"
    },
    {
     "data": {
      "image/png": "[encoded data removed]",
      "text/plain": [
       "<Figure size 432x288 with 2 Axes>"
      ]
     },
     "metadata": {
      "needs_background": "light"
     },
     "output_type": "display_data"
    }
   ],
   "source": [
    "plot_confusion_matrix(cls, inp_va_pca, Y_va, normalize='true') \n",
    "plt.title('VA')"
   ]
  },
  {
   "cell_type": "code",
   "execution_count": 58,
   "metadata": {},
   "outputs": [
    {
     "name": "stderr",
     "output_type": "stream",
     "text": [
      "c:\\users\\drich\\appdata\\local\\programs\\python\\python37\\lib\\site-packages\\sklearn\\utils\\deprecation.py:87: FutureWarning: Function plot_roc_curve is deprecated; Function :func:`plot_roc_curve` is deprecated in 1.0 and will be removed in 1.2. Use one of the class methods: :meth:`sklearn.metric.RocCurveDisplay.from_predictions` or :meth:`sklearn.metric.RocCurveDisplay.from_estimator`.\n",
      "  warnings.warn(msg, category=FutureWarning)\n"
     ]
    },
    {
     "data": {
      "text/plain": [
       "Text(0.5, 1.0, 'AUC Training')"
      ]
     },
     "execution_count": 58,
     "metadata": {},
     "output_type": "execute_result"
    },
    {
     "data": {
      "image/png": "[encoded data removed]",
      "text/plain": [
       "<Figure size 432x288 with 1 Axes>"
      ]
     },
     "metadata": {
      "needs_background": "light"
     },
     "output_type": "display_data"
    }
   ],
   "source": [
    "metrics.plot_roc_curve(cls, inp_tr_pca, Y_tr)\n",
    "plt.title('AUC Training')"
   ]
  },
  {
   "cell_type": "code",
   "execution_count": 59,
   "metadata": {},
   "outputs": [
    {
     "name": "stderr",
     "output_type": "stream",
     "text": [
      "c:\\users\\drich\\appdata\\local\\programs\\python\\python37\\lib\\site-packages\\sklearn\\utils\\deprecation.py:87: FutureWarning: Function plot_roc_curve is deprecated; Function :func:`plot_roc_curve` is deprecated in 1.0 and will be removed in 1.2. Use one of the class methods: :meth:`sklearn.metric.RocCurveDisplay.from_predictions` or :meth:`sklearn.metric.RocCurveDisplay.from_estimator`.\n",
      "  warnings.warn(msg, category=FutureWarning)\n"
     ]
    },
    {
     "data": {
      "text/plain": [
       "Text(0.5, 1.0, 'AUC Validation')"
      ]
     },
     "execution_count": 59,
     "metadata": {},
     "output_type": "execute_result"
    },
    {
     "data": {
      "image/png": "[encoded data removed]",
      "text/plain": [
       "<Figure size 432x288 with 1 Axes>"
      ]
     },
     "metadata": {
      "needs_background": "light"
     },
     "output_type": "display_data"
    }
   ],
   "source": [
    "metrics.plot_roc_curve(cls, inp_va_pca, Y_va)\n",
    "plt.title('AUC Validation')"
   ]
  },
  {
   "cell_type": "code",
   "execution_count": 60,
   "metadata": {},
   "outputs": [
    {
     "name": "stdout",
     "output_type": "stream",
     "text": [
      "Accuracy (TR) =  0.9265806133355258\n",
      "Accuracy (VA) =  0.9333991119881598\n"
     ]
    }
   ],
   "source": [
    "print (\"Accuracy (TR) = \", metrics.accuracy_score(Y_tr, Y_tr_pred))\n",
    "print (\"Accuracy (VA) = \", metrics.accuracy_score(Y_va, Y_va_pred))"
   ]
  },
  {
   "cell_type": "code",
   "execution_count": 61,
   "metadata": {},
   "outputs": [
    {
     "name": "stdout",
     "output_type": "stream",
     "text": [
      "Recall (TR) =  0.995550281815485\n",
      "Recall (VA) =  0.9982378854625551\n"
     ]
    }
   ],
   "source": [
    "print (\"Recall (TR) = \", metrics.recall_score(Y_tr, Y_tr_pred))\n",
    "print (\"Recall (VA) = \", metrics.recall_score(Y_va, Y_va_pred))"
   ]
  },
  {
   "cell_type": "code",
   "execution_count": 62,
   "metadata": {},
   "outputs": [
    {
     "name": "stdout",
     "output_type": "stream",
     "text": [
      "Precision (TR) =  0.8860726072607261\n",
      "Precision (VA) =  0.8949447077409163\n"
     ]
    }
   ],
   "source": [
    "print (\"Precision (TR) = \", metrics.precision_score(Y_tr, Y_tr_pred))\n",
    "print (\"Precision (VA) = \", metrics.precision_score(Y_va, Y_va_pred))\n"
   ]
  },
  {
   "cell_type": "code",
   "execution_count": 63,
   "metadata": {},
   "outputs": [
    {
     "data": {
      "text/plain": [
       "(12163, 400)"
      ]
     },
     "execution_count": 63,
     "metadata": {},
     "output_type": "execute_result"
    }
   ],
   "source": [
    "np.shape(inp_tr_pca)"
   ]
  },
  {
   "cell_type": "code",
   "execution_count": null,
   "metadata": {},
   "outputs": [],
   "source": []
  },
  {
   "cell_type": "code",
   "execution_count": null,
   "metadata": {},
   "outputs": [],
   "source": []
  }
 ],
 "metadata": {
  "kernelspec": {
   "display_name": "Python 3 (ipykernel)",
   "language": "python",
   "name": "python3"
  },
  "language_info": {
   "codemirror_mode": {
    "name": "ipython",
    "version": 3
   },
   "file_extension": ".py",
   "mimetype": "text/x-python",
   "name": "python",
   "nbconvert_exporter": "python",
   "pygments_lexer": "ipython3",
   "version": "3.7.9"
  }
 },
 "nbformat": 4,
 "nbformat_minor": 2
}
